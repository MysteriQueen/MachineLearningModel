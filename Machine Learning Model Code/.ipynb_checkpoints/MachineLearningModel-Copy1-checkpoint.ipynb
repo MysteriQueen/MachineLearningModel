{
 "cells": [
  {
   "cell_type": "markdown",
   "id": "e8d3b4a0",
   "metadata": {},
   "source": [
    "# Machine Learning Model"
   ]
  },
  {
   "cell_type": "code",
   "execution_count": 261,
   "id": "a76b1660",
   "metadata": {},
   "outputs": [],
   "source": [
    "import numpy as np\n",
    "import pandas as pd\n",
    "import matplotlib.pyplot as plt\n",
    "import seaborn as sns\n",
    "from matplotlib import pylab, rcParams\n",
    "from scipy import stats"
   ]
  },
  {
   "cell_type": "markdown",
   "id": "268c82f3",
   "metadata": {},
   "source": [
    "### Retrieve Data Frame"
   ]
  },
  {
   "cell_type": "code",
   "execution_count": 262,
   "id": "7bbd5022",
   "metadata": {},
   "outputs": [
    {
     "data": {
      "text/html": [
       "<div>\n",
       "<style scoped>\n",
       "    .dataframe tbody tr th:only-of-type {\n",
       "        vertical-align: middle;\n",
       "    }\n",
       "\n",
       "    .dataframe tbody tr th {\n",
       "        vertical-align: top;\n",
       "    }\n",
       "\n",
       "    .dataframe thead th {\n",
       "        text-align: right;\n",
       "    }\n",
       "</style>\n",
       "<table border=\"1\" class=\"dataframe\">\n",
       "  <thead>\n",
       "    <tr style=\"text-align: right;\">\n",
       "      <th></th>\n",
       "      <th>0</th>\n",
       "      <th>1</th>\n",
       "      <th>2</th>\n",
       "      <th>3</th>\n",
       "      <th>4</th>\n",
       "      <th>5</th>\n",
       "      <th>6</th>\n",
       "      <th>7</th>\n",
       "      <th>8</th>\n",
       "      <th>9</th>\n",
       "      <th>10</th>\n",
       "      <th>11</th>\n",
       "      <th>12</th>\n",
       "      <th>13</th>\n",
       "    </tr>\n",
       "  </thead>\n",
       "  <tbody>\n",
       "    <tr>\n",
       "      <th>0</th>\n",
       "      <td>63.0</td>\n",
       "      <td>1.0</td>\n",
       "      <td>1.0</td>\n",
       "      <td>145.0</td>\n",
       "      <td>233.0</td>\n",
       "      <td>1.0</td>\n",
       "      <td>2.0</td>\n",
       "      <td>150.0</td>\n",
       "      <td>0.0</td>\n",
       "      <td>2.3</td>\n",
       "      <td>3.0</td>\n",
       "      <td>0.0</td>\n",
       "      <td>6.0</td>\n",
       "      <td>0</td>\n",
       "    </tr>\n",
       "    <tr>\n",
       "      <th>1</th>\n",
       "      <td>67.0</td>\n",
       "      <td>1.0</td>\n",
       "      <td>4.0</td>\n",
       "      <td>160.0</td>\n",
       "      <td>286.0</td>\n",
       "      <td>0.0</td>\n",
       "      <td>2.0</td>\n",
       "      <td>108.0</td>\n",
       "      <td>1.0</td>\n",
       "      <td>1.5</td>\n",
       "      <td>2.0</td>\n",
       "      <td>3.0</td>\n",
       "      <td>3.0</td>\n",
       "      <td>2</td>\n",
       "    </tr>\n",
       "    <tr>\n",
       "      <th>2</th>\n",
       "      <td>67.0</td>\n",
       "      <td>1.0</td>\n",
       "      <td>4.0</td>\n",
       "      <td>120.0</td>\n",
       "      <td>229.0</td>\n",
       "      <td>0.0</td>\n",
       "      <td>2.0</td>\n",
       "      <td>129.0</td>\n",
       "      <td>1.0</td>\n",
       "      <td>2.6</td>\n",
       "      <td>2.0</td>\n",
       "      <td>2.0</td>\n",
       "      <td>7.0</td>\n",
       "      <td>1</td>\n",
       "    </tr>\n",
       "    <tr>\n",
       "      <th>3</th>\n",
       "      <td>37.0</td>\n",
       "      <td>1.0</td>\n",
       "      <td>3.0</td>\n",
       "      <td>130.0</td>\n",
       "      <td>250.0</td>\n",
       "      <td>0.0</td>\n",
       "      <td>0.0</td>\n",
       "      <td>187.0</td>\n",
       "      <td>0.0</td>\n",
       "      <td>3.5</td>\n",
       "      <td>3.0</td>\n",
       "      <td>0.0</td>\n",
       "      <td>3.0</td>\n",
       "      <td>0</td>\n",
       "    </tr>\n",
       "    <tr>\n",
       "      <th>4</th>\n",
       "      <td>41.0</td>\n",
       "      <td>0.0</td>\n",
       "      <td>2.0</td>\n",
       "      <td>130.0</td>\n",
       "      <td>204.0</td>\n",
       "      <td>0.0</td>\n",
       "      <td>2.0</td>\n",
       "      <td>172.0</td>\n",
       "      <td>0.0</td>\n",
       "      <td>1.4</td>\n",
       "      <td>1.0</td>\n",
       "      <td>0.0</td>\n",
       "      <td>3.0</td>\n",
       "      <td>0</td>\n",
       "    </tr>\n",
       "    <tr>\n",
       "      <th>...</th>\n",
       "      <td>...</td>\n",
       "      <td>...</td>\n",
       "      <td>...</td>\n",
       "      <td>...</td>\n",
       "      <td>...</td>\n",
       "      <td>...</td>\n",
       "      <td>...</td>\n",
       "      <td>...</td>\n",
       "      <td>...</td>\n",
       "      <td>...</td>\n",
       "      <td>...</td>\n",
       "      <td>...</td>\n",
       "      <td>...</td>\n",
       "      <td>...</td>\n",
       "    </tr>\n",
       "    <tr>\n",
       "      <th>298</th>\n",
       "      <td>45.0</td>\n",
       "      <td>1.0</td>\n",
       "      <td>1.0</td>\n",
       "      <td>110.0</td>\n",
       "      <td>264.0</td>\n",
       "      <td>0.0</td>\n",
       "      <td>0.0</td>\n",
       "      <td>132.0</td>\n",
       "      <td>0.0</td>\n",
       "      <td>1.2</td>\n",
       "      <td>2.0</td>\n",
       "      <td>0.0</td>\n",
       "      <td>7.0</td>\n",
       "      <td>1</td>\n",
       "    </tr>\n",
       "    <tr>\n",
       "      <th>299</th>\n",
       "      <td>68.0</td>\n",
       "      <td>1.0</td>\n",
       "      <td>4.0</td>\n",
       "      <td>144.0</td>\n",
       "      <td>193.0</td>\n",
       "      <td>1.0</td>\n",
       "      <td>0.0</td>\n",
       "      <td>141.0</td>\n",
       "      <td>0.0</td>\n",
       "      <td>3.4</td>\n",
       "      <td>2.0</td>\n",
       "      <td>2.0</td>\n",
       "      <td>7.0</td>\n",
       "      <td>2</td>\n",
       "    </tr>\n",
       "    <tr>\n",
       "      <th>300</th>\n",
       "      <td>57.0</td>\n",
       "      <td>1.0</td>\n",
       "      <td>4.0</td>\n",
       "      <td>130.0</td>\n",
       "      <td>131.0</td>\n",
       "      <td>0.0</td>\n",
       "      <td>0.0</td>\n",
       "      <td>115.0</td>\n",
       "      <td>1.0</td>\n",
       "      <td>1.2</td>\n",
       "      <td>2.0</td>\n",
       "      <td>1.0</td>\n",
       "      <td>7.0</td>\n",
       "      <td>3</td>\n",
       "    </tr>\n",
       "    <tr>\n",
       "      <th>301</th>\n",
       "      <td>57.0</td>\n",
       "      <td>0.0</td>\n",
       "      <td>2.0</td>\n",
       "      <td>130.0</td>\n",
       "      <td>236.0</td>\n",
       "      <td>0.0</td>\n",
       "      <td>2.0</td>\n",
       "      <td>174.0</td>\n",
       "      <td>0.0</td>\n",
       "      <td>0.0</td>\n",
       "      <td>2.0</td>\n",
       "      <td>1.0</td>\n",
       "      <td>3.0</td>\n",
       "      <td>1</td>\n",
       "    </tr>\n",
       "    <tr>\n",
       "      <th>302</th>\n",
       "      <td>38.0</td>\n",
       "      <td>1.0</td>\n",
       "      <td>3.0</td>\n",
       "      <td>138.0</td>\n",
       "      <td>175.0</td>\n",
       "      <td>0.0</td>\n",
       "      <td>0.0</td>\n",
       "      <td>173.0</td>\n",
       "      <td>0.0</td>\n",
       "      <td>0.0</td>\n",
       "      <td>1.0</td>\n",
       "      <td>?</td>\n",
       "      <td>3.0</td>\n",
       "      <td>0</td>\n",
       "    </tr>\n",
       "  </tbody>\n",
       "</table>\n",
       "<p>303 rows × 14 columns</p>\n",
       "</div>"
      ],
      "text/plain": [
       "       0    1    2      3      4    5    6      7    8    9    10   11   12  \\\n",
       "0    63.0  1.0  1.0  145.0  233.0  1.0  2.0  150.0  0.0  2.3  3.0  0.0  6.0   \n",
       "1    67.0  1.0  4.0  160.0  286.0  0.0  2.0  108.0  1.0  1.5  2.0  3.0  3.0   \n",
       "2    67.0  1.0  4.0  120.0  229.0  0.0  2.0  129.0  1.0  2.6  2.0  2.0  7.0   \n",
       "3    37.0  1.0  3.0  130.0  250.0  0.0  0.0  187.0  0.0  3.5  3.0  0.0  3.0   \n",
       "4    41.0  0.0  2.0  130.0  204.0  0.0  2.0  172.0  0.0  1.4  1.0  0.0  3.0   \n",
       "..    ...  ...  ...    ...    ...  ...  ...    ...  ...  ...  ...  ...  ...   \n",
       "298  45.0  1.0  1.0  110.0  264.0  0.0  0.0  132.0  0.0  1.2  2.0  0.0  7.0   \n",
       "299  68.0  1.0  4.0  144.0  193.0  1.0  0.0  141.0  0.0  3.4  2.0  2.0  7.0   \n",
       "300  57.0  1.0  4.0  130.0  131.0  0.0  0.0  115.0  1.0  1.2  2.0  1.0  7.0   \n",
       "301  57.0  0.0  2.0  130.0  236.0  0.0  2.0  174.0  0.0  0.0  2.0  1.0  3.0   \n",
       "302  38.0  1.0  3.0  138.0  175.0  0.0  0.0  173.0  0.0  0.0  1.0    ?  3.0   \n",
       "\n",
       "     13  \n",
       "0     0  \n",
       "1     2  \n",
       "2     1  \n",
       "3     0  \n",
       "4     0  \n",
       "..   ..  \n",
       "298   1  \n",
       "299   2  \n",
       "300   3  \n",
       "301   1  \n",
       "302   0  \n",
       "\n",
       "[303 rows x 14 columns]"
      ]
     },
     "execution_count": 262,
     "metadata": {},
     "output_type": "execute_result"
    }
   ],
   "source": [
    "# Read heart disease dataset and store into a dataframe variable\n",
    "dfHeartDiseases = pd.read_csv(\"D:\\Year3\\ArtificialIntelligence\\Assignment\\processed.cleveland.data\", header=None, sep=',')\n",
    "# Print dataframe\n",
    "dfHeartDiseases"
   ]
  },
  {
   "cell_type": "markdown",
   "id": "b43e1392",
   "metadata": {},
   "source": [
    "### Add Column Names To Dataframe"
   ]
  },
  {
   "cell_type": "code",
   "execution_count": 263,
   "id": "75fda7c4",
   "metadata": {},
   "outputs": [
    {
     "data": {
      "text/html": [
       "<div>\n",
       "<style scoped>\n",
       "    .dataframe tbody tr th:only-of-type {\n",
       "        vertical-align: middle;\n",
       "    }\n",
       "\n",
       "    .dataframe tbody tr th {\n",
       "        vertical-align: top;\n",
       "    }\n",
       "\n",
       "    .dataframe thead th {\n",
       "        text-align: right;\n",
       "    }\n",
       "</style>\n",
       "<table border=\"1\" class=\"dataframe\">\n",
       "  <thead>\n",
       "    <tr style=\"text-align: right;\">\n",
       "      <th></th>\n",
       "      <th>Age</th>\n",
       "      <th>Sex</th>\n",
       "      <th>Chest Pain Type</th>\n",
       "      <th>Resting Blood Pressure</th>\n",
       "      <th>Cholesterol</th>\n",
       "      <th>Fasting Blood Sugar</th>\n",
       "      <th>ECG</th>\n",
       "      <th>Max Heart Rate</th>\n",
       "      <th>Exercise Angina</th>\n",
       "      <th>ST Depression</th>\n",
       "      <th>Slope</th>\n",
       "      <th>Major Vessels Blocked</th>\n",
       "      <th>Thallium Test</th>\n",
       "      <th>Diagnosis</th>\n",
       "    </tr>\n",
       "  </thead>\n",
       "  <tbody>\n",
       "    <tr>\n",
       "      <th>0</th>\n",
       "      <td>63.0</td>\n",
       "      <td>1.0</td>\n",
       "      <td>1.0</td>\n",
       "      <td>145.0</td>\n",
       "      <td>233.0</td>\n",
       "      <td>1.0</td>\n",
       "      <td>2.0</td>\n",
       "      <td>150.0</td>\n",
       "      <td>0.0</td>\n",
       "      <td>2.3</td>\n",
       "      <td>3.0</td>\n",
       "      <td>0.0</td>\n",
       "      <td>6.0</td>\n",
       "      <td>0</td>\n",
       "    </tr>\n",
       "    <tr>\n",
       "      <th>1</th>\n",
       "      <td>67.0</td>\n",
       "      <td>1.0</td>\n",
       "      <td>4.0</td>\n",
       "      <td>160.0</td>\n",
       "      <td>286.0</td>\n",
       "      <td>0.0</td>\n",
       "      <td>2.0</td>\n",
       "      <td>108.0</td>\n",
       "      <td>1.0</td>\n",
       "      <td>1.5</td>\n",
       "      <td>2.0</td>\n",
       "      <td>3.0</td>\n",
       "      <td>3.0</td>\n",
       "      <td>2</td>\n",
       "    </tr>\n",
       "    <tr>\n",
       "      <th>2</th>\n",
       "      <td>67.0</td>\n",
       "      <td>1.0</td>\n",
       "      <td>4.0</td>\n",
       "      <td>120.0</td>\n",
       "      <td>229.0</td>\n",
       "      <td>0.0</td>\n",
       "      <td>2.0</td>\n",
       "      <td>129.0</td>\n",
       "      <td>1.0</td>\n",
       "      <td>2.6</td>\n",
       "      <td>2.0</td>\n",
       "      <td>2.0</td>\n",
       "      <td>7.0</td>\n",
       "      <td>1</td>\n",
       "    </tr>\n",
       "    <tr>\n",
       "      <th>3</th>\n",
       "      <td>37.0</td>\n",
       "      <td>1.0</td>\n",
       "      <td>3.0</td>\n",
       "      <td>130.0</td>\n",
       "      <td>250.0</td>\n",
       "      <td>0.0</td>\n",
       "      <td>0.0</td>\n",
       "      <td>187.0</td>\n",
       "      <td>0.0</td>\n",
       "      <td>3.5</td>\n",
       "      <td>3.0</td>\n",
       "      <td>0.0</td>\n",
       "      <td>3.0</td>\n",
       "      <td>0</td>\n",
       "    </tr>\n",
       "    <tr>\n",
       "      <th>4</th>\n",
       "      <td>41.0</td>\n",
       "      <td>0.0</td>\n",
       "      <td>2.0</td>\n",
       "      <td>130.0</td>\n",
       "      <td>204.0</td>\n",
       "      <td>0.0</td>\n",
       "      <td>2.0</td>\n",
       "      <td>172.0</td>\n",
       "      <td>0.0</td>\n",
       "      <td>1.4</td>\n",
       "      <td>1.0</td>\n",
       "      <td>0.0</td>\n",
       "      <td>3.0</td>\n",
       "      <td>0</td>\n",
       "    </tr>\n",
       "    <tr>\n",
       "      <th>...</th>\n",
       "      <td>...</td>\n",
       "      <td>...</td>\n",
       "      <td>...</td>\n",
       "      <td>...</td>\n",
       "      <td>...</td>\n",
       "      <td>...</td>\n",
       "      <td>...</td>\n",
       "      <td>...</td>\n",
       "      <td>...</td>\n",
       "      <td>...</td>\n",
       "      <td>...</td>\n",
       "      <td>...</td>\n",
       "      <td>...</td>\n",
       "      <td>...</td>\n",
       "    </tr>\n",
       "    <tr>\n",
       "      <th>298</th>\n",
       "      <td>45.0</td>\n",
       "      <td>1.0</td>\n",
       "      <td>1.0</td>\n",
       "      <td>110.0</td>\n",
       "      <td>264.0</td>\n",
       "      <td>0.0</td>\n",
       "      <td>0.0</td>\n",
       "      <td>132.0</td>\n",
       "      <td>0.0</td>\n",
       "      <td>1.2</td>\n",
       "      <td>2.0</td>\n",
       "      <td>0.0</td>\n",
       "      <td>7.0</td>\n",
       "      <td>1</td>\n",
       "    </tr>\n",
       "    <tr>\n",
       "      <th>299</th>\n",
       "      <td>68.0</td>\n",
       "      <td>1.0</td>\n",
       "      <td>4.0</td>\n",
       "      <td>144.0</td>\n",
       "      <td>193.0</td>\n",
       "      <td>1.0</td>\n",
       "      <td>0.0</td>\n",
       "      <td>141.0</td>\n",
       "      <td>0.0</td>\n",
       "      <td>3.4</td>\n",
       "      <td>2.0</td>\n",
       "      <td>2.0</td>\n",
       "      <td>7.0</td>\n",
       "      <td>2</td>\n",
       "    </tr>\n",
       "    <tr>\n",
       "      <th>300</th>\n",
       "      <td>57.0</td>\n",
       "      <td>1.0</td>\n",
       "      <td>4.0</td>\n",
       "      <td>130.0</td>\n",
       "      <td>131.0</td>\n",
       "      <td>0.0</td>\n",
       "      <td>0.0</td>\n",
       "      <td>115.0</td>\n",
       "      <td>1.0</td>\n",
       "      <td>1.2</td>\n",
       "      <td>2.0</td>\n",
       "      <td>1.0</td>\n",
       "      <td>7.0</td>\n",
       "      <td>3</td>\n",
       "    </tr>\n",
       "    <tr>\n",
       "      <th>301</th>\n",
       "      <td>57.0</td>\n",
       "      <td>0.0</td>\n",
       "      <td>2.0</td>\n",
       "      <td>130.0</td>\n",
       "      <td>236.0</td>\n",
       "      <td>0.0</td>\n",
       "      <td>2.0</td>\n",
       "      <td>174.0</td>\n",
       "      <td>0.0</td>\n",
       "      <td>0.0</td>\n",
       "      <td>2.0</td>\n",
       "      <td>1.0</td>\n",
       "      <td>3.0</td>\n",
       "      <td>1</td>\n",
       "    </tr>\n",
       "    <tr>\n",
       "      <th>302</th>\n",
       "      <td>38.0</td>\n",
       "      <td>1.0</td>\n",
       "      <td>3.0</td>\n",
       "      <td>138.0</td>\n",
       "      <td>175.0</td>\n",
       "      <td>0.0</td>\n",
       "      <td>0.0</td>\n",
       "      <td>173.0</td>\n",
       "      <td>0.0</td>\n",
       "      <td>0.0</td>\n",
       "      <td>1.0</td>\n",
       "      <td>?</td>\n",
       "      <td>3.0</td>\n",
       "      <td>0</td>\n",
       "    </tr>\n",
       "  </tbody>\n",
       "</table>\n",
       "<p>303 rows × 14 columns</p>\n",
       "</div>"
      ],
      "text/plain": [
       "      Age  Sex  Chest Pain Type  Resting Blood Pressure  Cholesterol  \\\n",
       "0    63.0  1.0              1.0                   145.0        233.0   \n",
       "1    67.0  1.0              4.0                   160.0        286.0   \n",
       "2    67.0  1.0              4.0                   120.0        229.0   \n",
       "3    37.0  1.0              3.0                   130.0        250.0   \n",
       "4    41.0  0.0              2.0                   130.0        204.0   \n",
       "..    ...  ...              ...                     ...          ...   \n",
       "298  45.0  1.0              1.0                   110.0        264.0   \n",
       "299  68.0  1.0              4.0                   144.0        193.0   \n",
       "300  57.0  1.0              4.0                   130.0        131.0   \n",
       "301  57.0  0.0              2.0                   130.0        236.0   \n",
       "302  38.0  1.0              3.0                   138.0        175.0   \n",
       "\n",
       "     Fasting Blood Sugar  ECG  Max Heart Rate  Exercise Angina  ST Depression  \\\n",
       "0                    1.0  2.0           150.0              0.0            2.3   \n",
       "1                    0.0  2.0           108.0              1.0            1.5   \n",
       "2                    0.0  2.0           129.0              1.0            2.6   \n",
       "3                    0.0  0.0           187.0              0.0            3.5   \n",
       "4                    0.0  2.0           172.0              0.0            1.4   \n",
       "..                   ...  ...             ...              ...            ...   \n",
       "298                  0.0  0.0           132.0              0.0            1.2   \n",
       "299                  1.0  0.0           141.0              0.0            3.4   \n",
       "300                  0.0  0.0           115.0              1.0            1.2   \n",
       "301                  0.0  2.0           174.0              0.0            0.0   \n",
       "302                  0.0  0.0           173.0              0.0            0.0   \n",
       "\n",
       "     Slope Major Vessels Blocked Thallium Test  Diagnosis  \n",
       "0      3.0                   0.0           6.0          0  \n",
       "1      2.0                   3.0           3.0          2  \n",
       "2      2.0                   2.0           7.0          1  \n",
       "3      3.0                   0.0           3.0          0  \n",
       "4      1.0                   0.0           3.0          0  \n",
       "..     ...                   ...           ...        ...  \n",
       "298    2.0                   0.0           7.0          1  \n",
       "299    2.0                   2.0           7.0          2  \n",
       "300    2.0                   1.0           7.0          3  \n",
       "301    2.0                   1.0           3.0          1  \n",
       "302    1.0                     ?           3.0          0  \n",
       "\n",
       "[303 rows x 14 columns]"
      ]
     },
     "execution_count": 263,
     "metadata": {},
     "output_type": "execute_result"
    }
   ],
   "source": [
    "# Add column names to the dataframe\n",
    "dfHeartDiseases.columns = ['Age', 'Sex', 'Chest Pain Type', 'Resting Blood Pressure', 'Cholesterol',\n",
    "                           'Fasting Blood Sugar', 'ECG', 'Max Heart Rate', 'Exercise Angina', 'ST Depression',\n",
    "                           'Slope', 'Major Vessels Blocked', 'Thallium Test', 'Diagnosis']\n",
    "# Print dataframe\n",
    "dfHeartDiseases"
   ]
  },
  {
   "cell_type": "markdown",
   "id": "c8da86f0",
   "metadata": {},
   "source": [
    "### Replace Values In Diagnosis Column"
   ]
  },
  {
   "cell_type": "code",
   "execution_count": 264,
   "id": "cd13096a",
   "metadata": {},
   "outputs": [
    {
     "data": {
      "text/html": [
       "<div>\n",
       "<style scoped>\n",
       "    .dataframe tbody tr th:only-of-type {\n",
       "        vertical-align: middle;\n",
       "    }\n",
       "\n",
       "    .dataframe tbody tr th {\n",
       "        vertical-align: top;\n",
       "    }\n",
       "\n",
       "    .dataframe thead th {\n",
       "        text-align: right;\n",
       "    }\n",
       "</style>\n",
       "<table border=\"1\" class=\"dataframe\">\n",
       "  <thead>\n",
       "    <tr style=\"text-align: right;\">\n",
       "      <th></th>\n",
       "      <th>Age</th>\n",
       "      <th>Sex</th>\n",
       "      <th>Chest Pain Type</th>\n",
       "      <th>Resting Blood Pressure</th>\n",
       "      <th>Cholesterol</th>\n",
       "      <th>Fasting Blood Sugar</th>\n",
       "      <th>ECG</th>\n",
       "      <th>Max Heart Rate</th>\n",
       "      <th>Exercise Angina</th>\n",
       "      <th>ST Depression</th>\n",
       "      <th>Slope</th>\n",
       "      <th>Major Vessels Blocked</th>\n",
       "      <th>Thallium Test</th>\n",
       "      <th>Diagnosis</th>\n",
       "    </tr>\n",
       "  </thead>\n",
       "  <tbody>\n",
       "    <tr>\n",
       "      <th>0</th>\n",
       "      <td>63.0</td>\n",
       "      <td>1.0</td>\n",
       "      <td>1.0</td>\n",
       "      <td>145.0</td>\n",
       "      <td>233.0</td>\n",
       "      <td>1.0</td>\n",
       "      <td>2.0</td>\n",
       "      <td>150.0</td>\n",
       "      <td>0.0</td>\n",
       "      <td>2.3</td>\n",
       "      <td>3.0</td>\n",
       "      <td>0.0</td>\n",
       "      <td>6.0</td>\n",
       "      <td>0</td>\n",
       "    </tr>\n",
       "    <tr>\n",
       "      <th>1</th>\n",
       "      <td>67.0</td>\n",
       "      <td>1.0</td>\n",
       "      <td>4.0</td>\n",
       "      <td>160.0</td>\n",
       "      <td>286.0</td>\n",
       "      <td>0.0</td>\n",
       "      <td>2.0</td>\n",
       "      <td>108.0</td>\n",
       "      <td>1.0</td>\n",
       "      <td>1.5</td>\n",
       "      <td>2.0</td>\n",
       "      <td>3.0</td>\n",
       "      <td>3.0</td>\n",
       "      <td>1</td>\n",
       "    </tr>\n",
       "    <tr>\n",
       "      <th>2</th>\n",
       "      <td>67.0</td>\n",
       "      <td>1.0</td>\n",
       "      <td>4.0</td>\n",
       "      <td>120.0</td>\n",
       "      <td>229.0</td>\n",
       "      <td>0.0</td>\n",
       "      <td>2.0</td>\n",
       "      <td>129.0</td>\n",
       "      <td>1.0</td>\n",
       "      <td>2.6</td>\n",
       "      <td>2.0</td>\n",
       "      <td>2.0</td>\n",
       "      <td>7.0</td>\n",
       "      <td>1</td>\n",
       "    </tr>\n",
       "    <tr>\n",
       "      <th>3</th>\n",
       "      <td>37.0</td>\n",
       "      <td>1.0</td>\n",
       "      <td>3.0</td>\n",
       "      <td>130.0</td>\n",
       "      <td>250.0</td>\n",
       "      <td>0.0</td>\n",
       "      <td>0.0</td>\n",
       "      <td>187.0</td>\n",
       "      <td>0.0</td>\n",
       "      <td>3.5</td>\n",
       "      <td>3.0</td>\n",
       "      <td>0.0</td>\n",
       "      <td>3.0</td>\n",
       "      <td>0</td>\n",
       "    </tr>\n",
       "    <tr>\n",
       "      <th>4</th>\n",
       "      <td>41.0</td>\n",
       "      <td>0.0</td>\n",
       "      <td>2.0</td>\n",
       "      <td>130.0</td>\n",
       "      <td>204.0</td>\n",
       "      <td>0.0</td>\n",
       "      <td>2.0</td>\n",
       "      <td>172.0</td>\n",
       "      <td>0.0</td>\n",
       "      <td>1.4</td>\n",
       "      <td>1.0</td>\n",
       "      <td>0.0</td>\n",
       "      <td>3.0</td>\n",
       "      <td>0</td>\n",
       "    </tr>\n",
       "    <tr>\n",
       "      <th>...</th>\n",
       "      <td>...</td>\n",
       "      <td>...</td>\n",
       "      <td>...</td>\n",
       "      <td>...</td>\n",
       "      <td>...</td>\n",
       "      <td>...</td>\n",
       "      <td>...</td>\n",
       "      <td>...</td>\n",
       "      <td>...</td>\n",
       "      <td>...</td>\n",
       "      <td>...</td>\n",
       "      <td>...</td>\n",
       "      <td>...</td>\n",
       "      <td>...</td>\n",
       "    </tr>\n",
       "    <tr>\n",
       "      <th>298</th>\n",
       "      <td>45.0</td>\n",
       "      <td>1.0</td>\n",
       "      <td>1.0</td>\n",
       "      <td>110.0</td>\n",
       "      <td>264.0</td>\n",
       "      <td>0.0</td>\n",
       "      <td>0.0</td>\n",
       "      <td>132.0</td>\n",
       "      <td>0.0</td>\n",
       "      <td>1.2</td>\n",
       "      <td>2.0</td>\n",
       "      <td>0.0</td>\n",
       "      <td>7.0</td>\n",
       "      <td>1</td>\n",
       "    </tr>\n",
       "    <tr>\n",
       "      <th>299</th>\n",
       "      <td>68.0</td>\n",
       "      <td>1.0</td>\n",
       "      <td>4.0</td>\n",
       "      <td>144.0</td>\n",
       "      <td>193.0</td>\n",
       "      <td>1.0</td>\n",
       "      <td>0.0</td>\n",
       "      <td>141.0</td>\n",
       "      <td>0.0</td>\n",
       "      <td>3.4</td>\n",
       "      <td>2.0</td>\n",
       "      <td>2.0</td>\n",
       "      <td>7.0</td>\n",
       "      <td>1</td>\n",
       "    </tr>\n",
       "    <tr>\n",
       "      <th>300</th>\n",
       "      <td>57.0</td>\n",
       "      <td>1.0</td>\n",
       "      <td>4.0</td>\n",
       "      <td>130.0</td>\n",
       "      <td>131.0</td>\n",
       "      <td>0.0</td>\n",
       "      <td>0.0</td>\n",
       "      <td>115.0</td>\n",
       "      <td>1.0</td>\n",
       "      <td>1.2</td>\n",
       "      <td>2.0</td>\n",
       "      <td>1.0</td>\n",
       "      <td>7.0</td>\n",
       "      <td>1</td>\n",
       "    </tr>\n",
       "    <tr>\n",
       "      <th>301</th>\n",
       "      <td>57.0</td>\n",
       "      <td>0.0</td>\n",
       "      <td>2.0</td>\n",
       "      <td>130.0</td>\n",
       "      <td>236.0</td>\n",
       "      <td>0.0</td>\n",
       "      <td>2.0</td>\n",
       "      <td>174.0</td>\n",
       "      <td>0.0</td>\n",
       "      <td>0.0</td>\n",
       "      <td>2.0</td>\n",
       "      <td>1.0</td>\n",
       "      <td>3.0</td>\n",
       "      <td>1</td>\n",
       "    </tr>\n",
       "    <tr>\n",
       "      <th>302</th>\n",
       "      <td>38.0</td>\n",
       "      <td>1.0</td>\n",
       "      <td>3.0</td>\n",
       "      <td>138.0</td>\n",
       "      <td>175.0</td>\n",
       "      <td>0.0</td>\n",
       "      <td>0.0</td>\n",
       "      <td>173.0</td>\n",
       "      <td>0.0</td>\n",
       "      <td>0.0</td>\n",
       "      <td>1.0</td>\n",
       "      <td>?</td>\n",
       "      <td>3.0</td>\n",
       "      <td>0</td>\n",
       "    </tr>\n",
       "  </tbody>\n",
       "</table>\n",
       "<p>303 rows × 14 columns</p>\n",
       "</div>"
      ],
      "text/plain": [
       "      Age  Sex  Chest Pain Type  Resting Blood Pressure  Cholesterol  \\\n",
       "0    63.0  1.0              1.0                   145.0        233.0   \n",
       "1    67.0  1.0              4.0                   160.0        286.0   \n",
       "2    67.0  1.0              4.0                   120.0        229.0   \n",
       "3    37.0  1.0              3.0                   130.0        250.0   \n",
       "4    41.0  0.0              2.0                   130.0        204.0   \n",
       "..    ...  ...              ...                     ...          ...   \n",
       "298  45.0  1.0              1.0                   110.0        264.0   \n",
       "299  68.0  1.0              4.0                   144.0        193.0   \n",
       "300  57.0  1.0              4.0                   130.0        131.0   \n",
       "301  57.0  0.0              2.0                   130.0        236.0   \n",
       "302  38.0  1.0              3.0                   138.0        175.0   \n",
       "\n",
       "     Fasting Blood Sugar  ECG  Max Heart Rate  Exercise Angina  ST Depression  \\\n",
       "0                    1.0  2.0           150.0              0.0            2.3   \n",
       "1                    0.0  2.0           108.0              1.0            1.5   \n",
       "2                    0.0  2.0           129.0              1.0            2.6   \n",
       "3                    0.0  0.0           187.0              0.0            3.5   \n",
       "4                    0.0  2.0           172.0              0.0            1.4   \n",
       "..                   ...  ...             ...              ...            ...   \n",
       "298                  0.0  0.0           132.0              0.0            1.2   \n",
       "299                  1.0  0.0           141.0              0.0            3.4   \n",
       "300                  0.0  0.0           115.0              1.0            1.2   \n",
       "301                  0.0  2.0           174.0              0.0            0.0   \n",
       "302                  0.0  0.0           173.0              0.0            0.0   \n",
       "\n",
       "     Slope Major Vessels Blocked Thallium Test  Diagnosis  \n",
       "0      3.0                   0.0           6.0          0  \n",
       "1      2.0                   3.0           3.0          1  \n",
       "2      2.0                   2.0           7.0          1  \n",
       "3      3.0                   0.0           3.0          0  \n",
       "4      1.0                   0.0           3.0          0  \n",
       "..     ...                   ...           ...        ...  \n",
       "298    2.0                   0.0           7.0          1  \n",
       "299    2.0                   2.0           7.0          1  \n",
       "300    2.0                   1.0           7.0          1  \n",
       "301    2.0                   1.0           3.0          1  \n",
       "302    1.0                     ?           3.0          0  \n",
       "\n",
       "[303 rows x 14 columns]"
      ]
     },
     "execution_count": 264,
     "metadata": {},
     "output_type": "execute_result"
    }
   ],
   "source": [
    "# Store column into a variable\n",
    "oDiagnosisColumn = dfHeartDiseases[\"Diagnosis\"]\n",
    "\n",
    "# Replace 2s, 3s and 4s with 1 in the Target Variable column\n",
    "dfHeartDiseases[\"Diagnosis\"] = dfHeartDiseases[\"Diagnosis\"].replace([2, 3, 4], 1)\n",
    "\n",
    "# Export dataframe to an Excel File\n",
    "dfHeartDiseases.to_excel('HeartDiseasesDataset.xlsx')\n",
    "\n",
    "# Print dataframe\n",
    "dfHeartDiseases"
   ]
  },
  {
   "cell_type": "markdown",
   "id": "abc10188",
   "metadata": {},
   "source": [
    "## Data Preparation"
   ]
  },
  {
   "cell_type": "markdown",
   "id": "c1214f61",
   "metadata": {},
   "source": [
    "### Preprocess\n",
    "#### Remove Missing Values."
   ]
  },
  {
   "cell_type": "code",
   "execution_count": 265,
   "id": "99cd104d",
   "metadata": {},
   "outputs": [
    {
     "data": {
      "text/html": [
       "<div>\n",
       "<style scoped>\n",
       "    .dataframe tbody tr th:only-of-type {\n",
       "        vertical-align: middle;\n",
       "    }\n",
       "\n",
       "    .dataframe tbody tr th {\n",
       "        vertical-align: top;\n",
       "    }\n",
       "\n",
       "    .dataframe thead th {\n",
       "        text-align: right;\n",
       "    }\n",
       "</style>\n",
       "<table border=\"1\" class=\"dataframe\">\n",
       "  <thead>\n",
       "    <tr style=\"text-align: right;\">\n",
       "      <th></th>\n",
       "      <th>Age</th>\n",
       "      <th>Sex</th>\n",
       "      <th>Chest Pain Type</th>\n",
       "      <th>Resting Blood Pressure</th>\n",
       "      <th>Cholesterol</th>\n",
       "      <th>Fasting Blood Sugar</th>\n",
       "      <th>ECG</th>\n",
       "      <th>Max Heart Rate</th>\n",
       "      <th>Exercise Angina</th>\n",
       "      <th>ST Depression</th>\n",
       "      <th>Slope</th>\n",
       "      <th>Major Vessels Blocked</th>\n",
       "      <th>Thallium Test</th>\n",
       "      <th>Diagnosis</th>\n",
       "    </tr>\n",
       "  </thead>\n",
       "  <tbody>\n",
       "    <tr>\n",
       "      <th>0</th>\n",
       "      <td>63.0</td>\n",
       "      <td>1.0</td>\n",
       "      <td>1.0</td>\n",
       "      <td>145.0</td>\n",
       "      <td>233.0</td>\n",
       "      <td>1.0</td>\n",
       "      <td>2.0</td>\n",
       "      <td>150.0</td>\n",
       "      <td>0.0</td>\n",
       "      <td>2.3</td>\n",
       "      <td>3.0</td>\n",
       "      <td>0.0</td>\n",
       "      <td>6.0</td>\n",
       "      <td>0</td>\n",
       "    </tr>\n",
       "    <tr>\n",
       "      <th>1</th>\n",
       "      <td>67.0</td>\n",
       "      <td>1.0</td>\n",
       "      <td>4.0</td>\n",
       "      <td>160.0</td>\n",
       "      <td>286.0</td>\n",
       "      <td>0.0</td>\n",
       "      <td>2.0</td>\n",
       "      <td>108.0</td>\n",
       "      <td>1.0</td>\n",
       "      <td>1.5</td>\n",
       "      <td>2.0</td>\n",
       "      <td>3.0</td>\n",
       "      <td>3.0</td>\n",
       "      <td>1</td>\n",
       "    </tr>\n",
       "    <tr>\n",
       "      <th>2</th>\n",
       "      <td>67.0</td>\n",
       "      <td>1.0</td>\n",
       "      <td>4.0</td>\n",
       "      <td>120.0</td>\n",
       "      <td>229.0</td>\n",
       "      <td>0.0</td>\n",
       "      <td>2.0</td>\n",
       "      <td>129.0</td>\n",
       "      <td>1.0</td>\n",
       "      <td>2.6</td>\n",
       "      <td>2.0</td>\n",
       "      <td>2.0</td>\n",
       "      <td>7.0</td>\n",
       "      <td>1</td>\n",
       "    </tr>\n",
       "    <tr>\n",
       "      <th>3</th>\n",
       "      <td>37.0</td>\n",
       "      <td>1.0</td>\n",
       "      <td>3.0</td>\n",
       "      <td>130.0</td>\n",
       "      <td>250.0</td>\n",
       "      <td>0.0</td>\n",
       "      <td>0.0</td>\n",
       "      <td>187.0</td>\n",
       "      <td>0.0</td>\n",
       "      <td>3.5</td>\n",
       "      <td>3.0</td>\n",
       "      <td>0.0</td>\n",
       "      <td>3.0</td>\n",
       "      <td>0</td>\n",
       "    </tr>\n",
       "    <tr>\n",
       "      <th>4</th>\n",
       "      <td>41.0</td>\n",
       "      <td>0.0</td>\n",
       "      <td>2.0</td>\n",
       "      <td>130.0</td>\n",
       "      <td>204.0</td>\n",
       "      <td>0.0</td>\n",
       "      <td>2.0</td>\n",
       "      <td>172.0</td>\n",
       "      <td>0.0</td>\n",
       "      <td>1.4</td>\n",
       "      <td>1.0</td>\n",
       "      <td>0.0</td>\n",
       "      <td>3.0</td>\n",
       "      <td>0</td>\n",
       "    </tr>\n",
       "    <tr>\n",
       "      <th>...</th>\n",
       "      <td>...</td>\n",
       "      <td>...</td>\n",
       "      <td>...</td>\n",
       "      <td>...</td>\n",
       "      <td>...</td>\n",
       "      <td>...</td>\n",
       "      <td>...</td>\n",
       "      <td>...</td>\n",
       "      <td>...</td>\n",
       "      <td>...</td>\n",
       "      <td>...</td>\n",
       "      <td>...</td>\n",
       "      <td>...</td>\n",
       "      <td>...</td>\n",
       "    </tr>\n",
       "    <tr>\n",
       "      <th>292</th>\n",
       "      <td>57.0</td>\n",
       "      <td>0.0</td>\n",
       "      <td>4.0</td>\n",
       "      <td>140.0</td>\n",
       "      <td>241.0</td>\n",
       "      <td>0.0</td>\n",
       "      <td>0.0</td>\n",
       "      <td>123.0</td>\n",
       "      <td>1.0</td>\n",
       "      <td>0.2</td>\n",
       "      <td>2.0</td>\n",
       "      <td>0.0</td>\n",
       "      <td>7.0</td>\n",
       "      <td>1</td>\n",
       "    </tr>\n",
       "    <tr>\n",
       "      <th>293</th>\n",
       "      <td>45.0</td>\n",
       "      <td>1.0</td>\n",
       "      <td>1.0</td>\n",
       "      <td>110.0</td>\n",
       "      <td>264.0</td>\n",
       "      <td>0.0</td>\n",
       "      <td>0.0</td>\n",
       "      <td>132.0</td>\n",
       "      <td>0.0</td>\n",
       "      <td>1.2</td>\n",
       "      <td>2.0</td>\n",
       "      <td>0.0</td>\n",
       "      <td>7.0</td>\n",
       "      <td>1</td>\n",
       "    </tr>\n",
       "    <tr>\n",
       "      <th>294</th>\n",
       "      <td>68.0</td>\n",
       "      <td>1.0</td>\n",
       "      <td>4.0</td>\n",
       "      <td>144.0</td>\n",
       "      <td>193.0</td>\n",
       "      <td>1.0</td>\n",
       "      <td>0.0</td>\n",
       "      <td>141.0</td>\n",
       "      <td>0.0</td>\n",
       "      <td>3.4</td>\n",
       "      <td>2.0</td>\n",
       "      <td>2.0</td>\n",
       "      <td>7.0</td>\n",
       "      <td>1</td>\n",
       "    </tr>\n",
       "    <tr>\n",
       "      <th>295</th>\n",
       "      <td>57.0</td>\n",
       "      <td>1.0</td>\n",
       "      <td>4.0</td>\n",
       "      <td>130.0</td>\n",
       "      <td>131.0</td>\n",
       "      <td>0.0</td>\n",
       "      <td>0.0</td>\n",
       "      <td>115.0</td>\n",
       "      <td>1.0</td>\n",
       "      <td>1.2</td>\n",
       "      <td>2.0</td>\n",
       "      <td>1.0</td>\n",
       "      <td>7.0</td>\n",
       "      <td>1</td>\n",
       "    </tr>\n",
       "    <tr>\n",
       "      <th>296</th>\n",
       "      <td>57.0</td>\n",
       "      <td>0.0</td>\n",
       "      <td>2.0</td>\n",
       "      <td>130.0</td>\n",
       "      <td>236.0</td>\n",
       "      <td>0.0</td>\n",
       "      <td>2.0</td>\n",
       "      <td>174.0</td>\n",
       "      <td>0.0</td>\n",
       "      <td>0.0</td>\n",
       "      <td>2.0</td>\n",
       "      <td>1.0</td>\n",
       "      <td>3.0</td>\n",
       "      <td>1</td>\n",
       "    </tr>\n",
       "  </tbody>\n",
       "</table>\n",
       "<p>297 rows × 14 columns</p>\n",
       "</div>"
      ],
      "text/plain": [
       "      Age  Sex  Chest Pain Type  Resting Blood Pressure  Cholesterol  \\\n",
       "0    63.0  1.0              1.0                   145.0        233.0   \n",
       "1    67.0  1.0              4.0                   160.0        286.0   \n",
       "2    67.0  1.0              4.0                   120.0        229.0   \n",
       "3    37.0  1.0              3.0                   130.0        250.0   \n",
       "4    41.0  0.0              2.0                   130.0        204.0   \n",
       "..    ...  ...              ...                     ...          ...   \n",
       "292  57.0  0.0              4.0                   140.0        241.0   \n",
       "293  45.0  1.0              1.0                   110.0        264.0   \n",
       "294  68.0  1.0              4.0                   144.0        193.0   \n",
       "295  57.0  1.0              4.0                   130.0        131.0   \n",
       "296  57.0  0.0              2.0                   130.0        236.0   \n",
       "\n",
       "     Fasting Blood Sugar  ECG  Max Heart Rate  Exercise Angina  ST Depression  \\\n",
       "0                    1.0  2.0           150.0              0.0            2.3   \n",
       "1                    0.0  2.0           108.0              1.0            1.5   \n",
       "2                    0.0  2.0           129.0              1.0            2.6   \n",
       "3                    0.0  0.0           187.0              0.0            3.5   \n",
       "4                    0.0  2.0           172.0              0.0            1.4   \n",
       "..                   ...  ...             ...              ...            ...   \n",
       "292                  0.0  0.0           123.0              1.0            0.2   \n",
       "293                  0.0  0.0           132.0              0.0            1.2   \n",
       "294                  1.0  0.0           141.0              0.0            3.4   \n",
       "295                  0.0  0.0           115.0              1.0            1.2   \n",
       "296                  0.0  2.0           174.0              0.0            0.0   \n",
       "\n",
       "     Slope Major Vessels Blocked Thallium Test  Diagnosis  \n",
       "0      3.0                   0.0           6.0          0  \n",
       "1      2.0                   3.0           3.0          1  \n",
       "2      2.0                   2.0           7.0          1  \n",
       "3      3.0                   0.0           3.0          0  \n",
       "4      1.0                   0.0           3.0          0  \n",
       "..     ...                   ...           ...        ...  \n",
       "292    2.0                   0.0           7.0          1  \n",
       "293    2.0                   0.0           7.0          1  \n",
       "294    2.0                   2.0           7.0          1  \n",
       "295    2.0                   1.0           7.0          1  \n",
       "296    2.0                   1.0           3.0          1  \n",
       "\n",
       "[297 rows x 14 columns]"
      ]
     },
     "execution_count": 265,
     "metadata": {},
     "output_type": "execute_result"
    }
   ],
   "source": [
    "# Remove missing values encoded as '?'\n",
    "dfHeartDiseases = dfHeartDiseases[(dfHeartDiseases.astype(str) != '?').all(axis=1)]\n",
    "# Reset index\n",
    "dfHeartDiseases = dfHeartDiseases.reset_index(drop=True)\n",
    "# Print dataframe\n",
    "dfHeartDiseases"
   ]
  },
  {
   "cell_type": "markdown",
   "id": "344155c1",
   "metadata": {},
   "source": [
    "#### Remove Outliers."
   ]
  },
  {
   "cell_type": "code",
   "execution_count": 266,
   "id": "174eea51",
   "metadata": {},
   "outputs": [
    {
     "data": {
      "text/plain": [
       "Age                       13.0\n",
       "Sex                        1.0\n",
       "Chest Pain Type            1.0\n",
       "Resting Blood Pressure    20.0\n",
       "Cholesterol               65.0\n",
       "Fasting Blood Sugar        0.0\n",
       "ECG                        2.0\n",
       "Max Heart Rate            33.0\n",
       "Exercise Angina            1.0\n",
       "ST Depression              1.6\n",
       "Slope                      1.0\n",
       "Diagnosis                  1.0\n",
       "dtype: float64"
      ]
     },
     "execution_count": 266,
     "metadata": {},
     "output_type": "execute_result"
    }
   ],
   "source": [
    "# Export statistics of the dataframe to an Excel file\n",
    "dfHeartDiseases.describe().to_excel('Statistics.xlsx')\n",
    "\n",
    "# Retrieve Q1 and Q3\n",
    "fQ1 = dfHeartDiseases.quantile(0.25)\n",
    "fQ3 = dfHeartDiseases.quantile(0.75)\n",
    "# Calculate IQR\n",
    "fIQR = fQ3 - fQ1\n",
    "# Print IQR\n",
    "fIQR"
   ]
  },
  {
   "cell_type": "code",
   "execution_count": 267,
   "id": "8e3d99d4",
   "metadata": {},
   "outputs": [
    {
     "data": {
      "text/plain": [
       "Age                       13.0\n",
       "Sex                        1.0\n",
       "Chest Pain Type            1.0\n",
       "Resting Blood Pressure    20.0\n",
       "Cholesterol               65.0\n",
       "Fasting Blood Sugar        0.0\n",
       "ECG                        2.0\n",
       "Max Heart Rate            33.0\n",
       "Exercise Angina            1.0\n",
       "ST Depression              1.6\n",
       "Slope                      1.0\n",
       "Diagnosis                  1.0\n",
       "dtype: float64"
      ]
     },
     "execution_count": 267,
     "metadata": {},
     "output_type": "execute_result"
    }
   ],
   "source": [
    "# Export statistics of the dataframe to an Excel file\n",
    "dfHeartDiseases.describe().to_excel('Statistics.xlsx')\n",
    "\n",
    "# Retrieve Q1 and Q3\n",
    "fQ1 = dfHeartDiseases.quantile(0.25)\n",
    "fQ3 = dfHeartDiseases.quantile(0.75)\n",
    "# Calculate IQR\n",
    "fIQR = fQ3 - fQ1\n",
    "# Print IQR\n",
    "fIQR"
   ]
  },
  {
   "cell_type": "code",
   "execution_count": 292,
   "id": "b5e720d3",
   "metadata": {},
   "outputs": [
    {
     "name": "stderr",
     "output_type": "stream",
     "text": [
      "C:\\Users\\User\\AppData\\Local\\Temp/ipykernel_43664/817482917.py:2: FutureWarning: Automatic reindexing on DataFrame vs Series comparisons is deprecated and will raise ValueError in a future version.  Do `left, right = left.align(right, axis=1, copy=False)` before e.g. `left == right`\n",
      "  dfUpperBound = dfHeartDiseases >= (fQ3 + 1.5 * fIQR)\n",
      "C:\\Users\\User\\AppData\\Local\\Temp/ipykernel_43664/817482917.py:3: FutureWarning: Automatic reindexing on DataFrame vs Series comparisons is deprecated and will raise ValueError in a future version.  Do `left, right = left.align(right, axis=1, copy=False)` before e.g. `left == right`\n",
      "  dfLowerBound = dfHeartDiseases <= (fQ1 - 1.5 * fIQR)\n",
      "C:\\Users\\User\\AppData\\Local\\Temp/ipykernel_43664/817482917.py:9: FutureWarning: Automatic reindexing on DataFrame vs Series comparisons is deprecated and will raise ValueError in a future version.  Do `left, right = left.align(right, axis=1, copy=False)` before e.g. `left == right`\n",
      "  dfHeartDiseasesClean = dfHeartDiseases[~((dfHeartDiseases > (fQ3 + 1.5 * fIQR)) | (dfHeartDiseases < (fQ1 - 1.5 * fIQR))).any(axis=1)]\n"
     ]
    },
    {
     "data": {
      "text/html": [
       "<div>\n",
       "<style scoped>\n",
       "    .dataframe tbody tr th:only-of-type {\n",
       "        vertical-align: middle;\n",
       "    }\n",
       "\n",
       "    .dataframe tbody tr th {\n",
       "        vertical-align: top;\n",
       "    }\n",
       "\n",
       "    .dataframe thead th {\n",
       "        text-align: right;\n",
       "    }\n",
       "</style>\n",
       "<table border=\"1\" class=\"dataframe\">\n",
       "  <thead>\n",
       "    <tr style=\"text-align: right;\">\n",
       "      <th></th>\n",
       "      <th>Age</th>\n",
       "      <th>Sex</th>\n",
       "      <th>Chest Pain Type</th>\n",
       "      <th>Resting Blood Pressure</th>\n",
       "      <th>Cholesterol</th>\n",
       "      <th>Fasting Blood Sugar</th>\n",
       "      <th>ECG</th>\n",
       "      <th>Max Heart Rate</th>\n",
       "      <th>Exercise Angina</th>\n",
       "      <th>ST Depression</th>\n",
       "      <th>Slope</th>\n",
       "      <th>Major Vessels Blocked</th>\n",
       "      <th>Thallium Test</th>\n",
       "      <th>Diagnosis</th>\n",
       "    </tr>\n",
       "  </thead>\n",
       "  <tbody>\n",
       "    <tr>\n",
       "      <th>1</th>\n",
       "      <td>67.0</td>\n",
       "      <td>1.0</td>\n",
       "      <td>4.0</td>\n",
       "      <td>160.0</td>\n",
       "      <td>286.0</td>\n",
       "      <td>0.0</td>\n",
       "      <td>2.0</td>\n",
       "      <td>108.0</td>\n",
       "      <td>1.0</td>\n",
       "      <td>1.5</td>\n",
       "      <td>2.0</td>\n",
       "      <td>3.0</td>\n",
       "      <td>3.0</td>\n",
       "      <td>1</td>\n",
       "    </tr>\n",
       "    <tr>\n",
       "      <th>2</th>\n",
       "      <td>67.0</td>\n",
       "      <td>1.0</td>\n",
       "      <td>4.0</td>\n",
       "      <td>120.0</td>\n",
       "      <td>229.0</td>\n",
       "      <td>0.0</td>\n",
       "      <td>2.0</td>\n",
       "      <td>129.0</td>\n",
       "      <td>1.0</td>\n",
       "      <td>2.6</td>\n",
       "      <td>2.0</td>\n",
       "      <td>2.0</td>\n",
       "      <td>7.0</td>\n",
       "      <td>1</td>\n",
       "    </tr>\n",
       "    <tr>\n",
       "      <th>3</th>\n",
       "      <td>37.0</td>\n",
       "      <td>1.0</td>\n",
       "      <td>3.0</td>\n",
       "      <td>130.0</td>\n",
       "      <td>250.0</td>\n",
       "      <td>0.0</td>\n",
       "      <td>0.0</td>\n",
       "      <td>187.0</td>\n",
       "      <td>0.0</td>\n",
       "      <td>3.5</td>\n",
       "      <td>3.0</td>\n",
       "      <td>0.0</td>\n",
       "      <td>3.0</td>\n",
       "      <td>0</td>\n",
       "    </tr>\n",
       "    <tr>\n",
       "      <th>4</th>\n",
       "      <td>41.0</td>\n",
       "      <td>0.0</td>\n",
       "      <td>2.0</td>\n",
       "      <td>130.0</td>\n",
       "      <td>204.0</td>\n",
       "      <td>0.0</td>\n",
       "      <td>2.0</td>\n",
       "      <td>172.0</td>\n",
       "      <td>0.0</td>\n",
       "      <td>1.4</td>\n",
       "      <td>1.0</td>\n",
       "      <td>0.0</td>\n",
       "      <td>3.0</td>\n",
       "      <td>0</td>\n",
       "    </tr>\n",
       "    <tr>\n",
       "      <th>5</th>\n",
       "      <td>56.0</td>\n",
       "      <td>1.0</td>\n",
       "      <td>2.0</td>\n",
       "      <td>120.0</td>\n",
       "      <td>236.0</td>\n",
       "      <td>0.0</td>\n",
       "      <td>0.0</td>\n",
       "      <td>178.0</td>\n",
       "      <td>0.0</td>\n",
       "      <td>0.8</td>\n",
       "      <td>1.0</td>\n",
       "      <td>0.0</td>\n",
       "      <td>3.0</td>\n",
       "      <td>0</td>\n",
       "    </tr>\n",
       "    <tr>\n",
       "      <th>...</th>\n",
       "      <td>...</td>\n",
       "      <td>...</td>\n",
       "      <td>...</td>\n",
       "      <td>...</td>\n",
       "      <td>...</td>\n",
       "      <td>...</td>\n",
       "      <td>...</td>\n",
       "      <td>...</td>\n",
       "      <td>...</td>\n",
       "      <td>...</td>\n",
       "      <td>...</td>\n",
       "      <td>...</td>\n",
       "      <td>...</td>\n",
       "      <td>...</td>\n",
       "    </tr>\n",
       "    <tr>\n",
       "      <th>289</th>\n",
       "      <td>63.0</td>\n",
       "      <td>0.0</td>\n",
       "      <td>4.0</td>\n",
       "      <td>124.0</td>\n",
       "      <td>197.0</td>\n",
       "      <td>0.0</td>\n",
       "      <td>0.0</td>\n",
       "      <td>136.0</td>\n",
       "      <td>1.0</td>\n",
       "      <td>0.0</td>\n",
       "      <td>2.0</td>\n",
       "      <td>0.0</td>\n",
       "      <td>3.0</td>\n",
       "      <td>1</td>\n",
       "    </tr>\n",
       "    <tr>\n",
       "      <th>290</th>\n",
       "      <td>41.0</td>\n",
       "      <td>1.0</td>\n",
       "      <td>2.0</td>\n",
       "      <td>120.0</td>\n",
       "      <td>157.0</td>\n",
       "      <td>0.0</td>\n",
       "      <td>0.0</td>\n",
       "      <td>182.0</td>\n",
       "      <td>0.0</td>\n",
       "      <td>0.0</td>\n",
       "      <td>1.0</td>\n",
       "      <td>0.0</td>\n",
       "      <td>3.0</td>\n",
       "      <td>0</td>\n",
       "    </tr>\n",
       "    <tr>\n",
       "      <th>292</th>\n",
       "      <td>57.0</td>\n",
       "      <td>0.0</td>\n",
       "      <td>4.0</td>\n",
       "      <td>140.0</td>\n",
       "      <td>241.0</td>\n",
       "      <td>0.0</td>\n",
       "      <td>0.0</td>\n",
       "      <td>123.0</td>\n",
       "      <td>1.0</td>\n",
       "      <td>0.2</td>\n",
       "      <td>2.0</td>\n",
       "      <td>0.0</td>\n",
       "      <td>7.0</td>\n",
       "      <td>1</td>\n",
       "    </tr>\n",
       "    <tr>\n",
       "      <th>295</th>\n",
       "      <td>57.0</td>\n",
       "      <td>1.0</td>\n",
       "      <td>4.0</td>\n",
       "      <td>130.0</td>\n",
       "      <td>131.0</td>\n",
       "      <td>0.0</td>\n",
       "      <td>0.0</td>\n",
       "      <td>115.0</td>\n",
       "      <td>1.0</td>\n",
       "      <td>1.2</td>\n",
       "      <td>2.0</td>\n",
       "      <td>1.0</td>\n",
       "      <td>7.0</td>\n",
       "      <td>1</td>\n",
       "    </tr>\n",
       "    <tr>\n",
       "      <th>296</th>\n",
       "      <td>57.0</td>\n",
       "      <td>0.0</td>\n",
       "      <td>2.0</td>\n",
       "      <td>130.0</td>\n",
       "      <td>236.0</td>\n",
       "      <td>0.0</td>\n",
       "      <td>2.0</td>\n",
       "      <td>174.0</td>\n",
       "      <td>0.0</td>\n",
       "      <td>0.0</td>\n",
       "      <td>2.0</td>\n",
       "      <td>1.0</td>\n",
       "      <td>3.0</td>\n",
       "      <td>1</td>\n",
       "    </tr>\n",
       "  </tbody>\n",
       "</table>\n",
       "<p>223 rows × 14 columns</p>\n",
       "</div>"
      ],
      "text/plain": [
       "      Age  Sex  Chest Pain Type  Resting Blood Pressure  Cholesterol  \\\n",
       "1    67.0  1.0              4.0                   160.0        286.0   \n",
       "2    67.0  1.0              4.0                   120.0        229.0   \n",
       "3    37.0  1.0              3.0                   130.0        250.0   \n",
       "4    41.0  0.0              2.0                   130.0        204.0   \n",
       "5    56.0  1.0              2.0                   120.0        236.0   \n",
       "..    ...  ...              ...                     ...          ...   \n",
       "289  63.0  0.0              4.0                   124.0        197.0   \n",
       "290  41.0  1.0              2.0                   120.0        157.0   \n",
       "292  57.0  0.0              4.0                   140.0        241.0   \n",
       "295  57.0  1.0              4.0                   130.0        131.0   \n",
       "296  57.0  0.0              2.0                   130.0        236.0   \n",
       "\n",
       "     Fasting Blood Sugar  ECG  Max Heart Rate  Exercise Angina  ST Depression  \\\n",
       "1                    0.0  2.0           108.0              1.0            1.5   \n",
       "2                    0.0  2.0           129.0              1.0            2.6   \n",
       "3                    0.0  0.0           187.0              0.0            3.5   \n",
       "4                    0.0  2.0           172.0              0.0            1.4   \n",
       "5                    0.0  0.0           178.0              0.0            0.8   \n",
       "..                   ...  ...             ...              ...            ...   \n",
       "289                  0.0  0.0           136.0              1.0            0.0   \n",
       "290                  0.0  0.0           182.0              0.0            0.0   \n",
       "292                  0.0  0.0           123.0              1.0            0.2   \n",
       "295                  0.0  0.0           115.0              1.0            1.2   \n",
       "296                  0.0  2.0           174.0              0.0            0.0   \n",
       "\n",
       "     Slope Major Vessels Blocked Thallium Test  Diagnosis  \n",
       "1      2.0                   3.0           3.0          1  \n",
       "2      2.0                   2.0           7.0          1  \n",
       "3      3.0                   0.0           3.0          0  \n",
       "4      1.0                   0.0           3.0          0  \n",
       "5      1.0                   0.0           3.0          0  \n",
       "..     ...                   ...           ...        ...  \n",
       "289    2.0                   0.0           3.0          1  \n",
       "290    1.0                   0.0           3.0          0  \n",
       "292    2.0                   0.0           7.0          1  \n",
       "295    2.0                   1.0           7.0          1  \n",
       "296    2.0                   1.0           3.0          1  \n",
       "\n",
       "[223 rows x 14 columns]"
      ]
     },
     "execution_count": 292,
     "metadata": {},
     "output_type": "execute_result"
    }
   ],
   "source": [
    "# Detect outliers by storing a boolean, produced by dfHeartDiseases >= (fQ3 + 1.5 * fIQR, into a dataframe\n",
    "dfUpperBound = dfHeartDiseases >= (fQ3 + 1.5 * fIQR)\n",
    "dfLowerBound = dfHeartDiseases <= (fQ1 - 1.5 * fIQR)\n",
    "# Export bound dataframes to an Excel file\n",
    "dfUpperBound.to_excel('UpperBoundOutliers.xlsx')\n",
    "dfLowerBound.to_excel('LowerBoundOutliers.xlsx')\n",
    "\n",
    "# Remove outliers by row, using the IQR score\n",
    "dfHeartDiseasesClean = dfHeartDiseases[~((dfHeartDiseases > (fQ3 + 1.5 * fIQR)) | (dfHeartDiseases < (fQ1 - 1.5 * fIQR))).any(axis=1)]\n",
    "# Print clean version of dataframe\n",
    "dfHeartDiseasesClean"
   ]
  },
  {
   "cell_type": "markdown",
   "id": "ae470896",
   "metadata": {},
   "source": [
    "## EDA - Analysing the Dataframe and Features"
   ]
  },
  {
   "cell_type": "code",
   "execution_count": 269,
   "id": "16c8ca98",
   "metadata": {},
   "outputs": [
    {
     "name": "stdout",
     "output_type": "stream",
     "text": [
      "Shape: (297, 14)\n"
     ]
    }
   ],
   "source": [
    "# Print shape of the dataframe\n",
    "print(\"Shape: \" + str(dfHeartDiseases.shape))"
   ]
  },
  {
   "cell_type": "code",
   "execution_count": 270,
   "id": "e735a469",
   "metadata": {},
   "outputs": [
    {
     "data": {
      "text/html": [
       "<div>\n",
       "<style scoped>\n",
       "    .dataframe tbody tr th:only-of-type {\n",
       "        vertical-align: middle;\n",
       "    }\n",
       "\n",
       "    .dataframe tbody tr th {\n",
       "        vertical-align: top;\n",
       "    }\n",
       "\n",
       "    .dataframe thead th {\n",
       "        text-align: right;\n",
       "    }\n",
       "</style>\n",
       "<table border=\"1\" class=\"dataframe\">\n",
       "  <thead>\n",
       "    <tr style=\"text-align: right;\">\n",
       "      <th></th>\n",
       "      <th>Age</th>\n",
       "      <th>Sex</th>\n",
       "      <th>Chest Pain Type</th>\n",
       "      <th>Resting Blood Pressure</th>\n",
       "      <th>Cholesterol</th>\n",
       "      <th>Fasting Blood Sugar</th>\n",
       "      <th>ECG</th>\n",
       "      <th>Max Heart Rate</th>\n",
       "      <th>Exercise Angina</th>\n",
       "      <th>ST Depression</th>\n",
       "      <th>Slope</th>\n",
       "      <th>Diagnosis</th>\n",
       "    </tr>\n",
       "  </thead>\n",
       "  <tbody>\n",
       "    <tr>\n",
       "      <th>count</th>\n",
       "      <td>297.000000</td>\n",
       "      <td>297.000000</td>\n",
       "      <td>297.000000</td>\n",
       "      <td>297.000000</td>\n",
       "      <td>297.000000</td>\n",
       "      <td>297.000000</td>\n",
       "      <td>297.000000</td>\n",
       "      <td>297.000000</td>\n",
       "      <td>297.000000</td>\n",
       "      <td>297.000000</td>\n",
       "      <td>297.000000</td>\n",
       "      <td>297.000000</td>\n",
       "    </tr>\n",
       "    <tr>\n",
       "      <th>mean</th>\n",
       "      <td>54.542088</td>\n",
       "      <td>0.676768</td>\n",
       "      <td>3.158249</td>\n",
       "      <td>131.693603</td>\n",
       "      <td>247.350168</td>\n",
       "      <td>0.144781</td>\n",
       "      <td>0.996633</td>\n",
       "      <td>149.599327</td>\n",
       "      <td>0.326599</td>\n",
       "      <td>1.055556</td>\n",
       "      <td>1.602694</td>\n",
       "      <td>0.461279</td>\n",
       "    </tr>\n",
       "    <tr>\n",
       "      <th>std</th>\n",
       "      <td>9.049736</td>\n",
       "      <td>0.468500</td>\n",
       "      <td>0.964859</td>\n",
       "      <td>17.762806</td>\n",
       "      <td>51.997583</td>\n",
       "      <td>0.352474</td>\n",
       "      <td>0.994914</td>\n",
       "      <td>22.941562</td>\n",
       "      <td>0.469761</td>\n",
       "      <td>1.166123</td>\n",
       "      <td>0.618187</td>\n",
       "      <td>0.499340</td>\n",
       "    </tr>\n",
       "    <tr>\n",
       "      <th>min</th>\n",
       "      <td>29.000000</td>\n",
       "      <td>0.000000</td>\n",
       "      <td>1.000000</td>\n",
       "      <td>94.000000</td>\n",
       "      <td>126.000000</td>\n",
       "      <td>0.000000</td>\n",
       "      <td>0.000000</td>\n",
       "      <td>71.000000</td>\n",
       "      <td>0.000000</td>\n",
       "      <td>0.000000</td>\n",
       "      <td>1.000000</td>\n",
       "      <td>0.000000</td>\n",
       "    </tr>\n",
       "    <tr>\n",
       "      <th>25%</th>\n",
       "      <td>48.000000</td>\n",
       "      <td>0.000000</td>\n",
       "      <td>3.000000</td>\n",
       "      <td>120.000000</td>\n",
       "      <td>211.000000</td>\n",
       "      <td>0.000000</td>\n",
       "      <td>0.000000</td>\n",
       "      <td>133.000000</td>\n",
       "      <td>0.000000</td>\n",
       "      <td>0.000000</td>\n",
       "      <td>1.000000</td>\n",
       "      <td>0.000000</td>\n",
       "    </tr>\n",
       "    <tr>\n",
       "      <th>50%</th>\n",
       "      <td>56.000000</td>\n",
       "      <td>1.000000</td>\n",
       "      <td>3.000000</td>\n",
       "      <td>130.000000</td>\n",
       "      <td>243.000000</td>\n",
       "      <td>0.000000</td>\n",
       "      <td>1.000000</td>\n",
       "      <td>153.000000</td>\n",
       "      <td>0.000000</td>\n",
       "      <td>0.800000</td>\n",
       "      <td>2.000000</td>\n",
       "      <td>0.000000</td>\n",
       "    </tr>\n",
       "    <tr>\n",
       "      <th>75%</th>\n",
       "      <td>61.000000</td>\n",
       "      <td>1.000000</td>\n",
       "      <td>4.000000</td>\n",
       "      <td>140.000000</td>\n",
       "      <td>276.000000</td>\n",
       "      <td>0.000000</td>\n",
       "      <td>2.000000</td>\n",
       "      <td>166.000000</td>\n",
       "      <td>1.000000</td>\n",
       "      <td>1.600000</td>\n",
       "      <td>2.000000</td>\n",
       "      <td>1.000000</td>\n",
       "    </tr>\n",
       "    <tr>\n",
       "      <th>max</th>\n",
       "      <td>77.000000</td>\n",
       "      <td>1.000000</td>\n",
       "      <td>4.000000</td>\n",
       "      <td>200.000000</td>\n",
       "      <td>564.000000</td>\n",
       "      <td>1.000000</td>\n",
       "      <td>2.000000</td>\n",
       "      <td>202.000000</td>\n",
       "      <td>1.000000</td>\n",
       "      <td>6.200000</td>\n",
       "      <td>3.000000</td>\n",
       "      <td>1.000000</td>\n",
       "    </tr>\n",
       "  </tbody>\n",
       "</table>\n",
       "</div>"
      ],
      "text/plain": [
       "              Age         Sex  Chest Pain Type  Resting Blood Pressure  \\\n",
       "count  297.000000  297.000000       297.000000              297.000000   \n",
       "mean    54.542088    0.676768         3.158249              131.693603   \n",
       "std      9.049736    0.468500         0.964859               17.762806   \n",
       "min     29.000000    0.000000         1.000000               94.000000   \n",
       "25%     48.000000    0.000000         3.000000              120.000000   \n",
       "50%     56.000000    1.000000         3.000000              130.000000   \n",
       "75%     61.000000    1.000000         4.000000              140.000000   \n",
       "max     77.000000    1.000000         4.000000              200.000000   \n",
       "\n",
       "       Cholesterol  Fasting Blood Sugar         ECG  Max Heart Rate  \\\n",
       "count   297.000000           297.000000  297.000000      297.000000   \n",
       "mean    247.350168             0.144781    0.996633      149.599327   \n",
       "std      51.997583             0.352474    0.994914       22.941562   \n",
       "min     126.000000             0.000000    0.000000       71.000000   \n",
       "25%     211.000000             0.000000    0.000000      133.000000   \n",
       "50%     243.000000             0.000000    1.000000      153.000000   \n",
       "75%     276.000000             0.000000    2.000000      166.000000   \n",
       "max     564.000000             1.000000    2.000000      202.000000   \n",
       "\n",
       "       Exercise Angina  ST Depression       Slope   Diagnosis  \n",
       "count       297.000000     297.000000  297.000000  297.000000  \n",
       "mean          0.326599       1.055556    1.602694    0.461279  \n",
       "std           0.469761       1.166123    0.618187    0.499340  \n",
       "min           0.000000       0.000000    1.000000    0.000000  \n",
       "25%           0.000000       0.000000    1.000000    0.000000  \n",
       "50%           0.000000       0.800000    2.000000    0.000000  \n",
       "75%           1.000000       1.600000    2.000000    1.000000  \n",
       "max           1.000000       6.200000    3.000000    1.000000  "
      ]
     },
     "execution_count": 270,
     "metadata": {},
     "output_type": "execute_result"
    }
   ],
   "source": [
    "# Print description of the dataframe\n",
    "dfHeartDiseases.describe()"
   ]
  },
  {
   "cell_type": "code",
   "execution_count": 271,
   "id": "fabf23f7",
   "metadata": {},
   "outputs": [
    {
     "name": "stdout",
     "output_type": "stream",
     "text": [
      "<class 'pandas.core.frame.DataFrame'>\n",
      "RangeIndex: 297 entries, 0 to 296\n",
      "Data columns (total 14 columns):\n",
      " #   Column                  Non-Null Count  Dtype  \n",
      "---  ------                  --------------  -----  \n",
      " 0   Age                     297 non-null    float64\n",
      " 1   Sex                     297 non-null    float64\n",
      " 2   Chest Pain Type         297 non-null    float64\n",
      " 3   Resting Blood Pressure  297 non-null    float64\n",
      " 4   Cholesterol             297 non-null    float64\n",
      " 5   Fasting Blood Sugar     297 non-null    float64\n",
      " 6   ECG                     297 non-null    float64\n",
      " 7   Max Heart Rate          297 non-null    float64\n",
      " 8   Exercise Angina         297 non-null    float64\n",
      " 9   ST Depression           297 non-null    float64\n",
      " 10  Slope                   297 non-null    float64\n",
      " 11  Major Vessels Blocked   297 non-null    object \n",
      " 12  Thallium Test           297 non-null    object \n",
      " 13  Diagnosis               297 non-null    int64  \n",
      "dtypes: float64(11), int64(1), object(2)\n",
      "memory usage: 32.6+ KB\n"
     ]
    }
   ],
   "source": [
    "# Print information\n",
    "dfHeartDiseases.info()"
   ]
  },
  {
   "cell_type": "markdown",
   "id": "8bfffece",
   "metadata": {},
   "source": [
    "### Analysing the 'Diagnosis' Feature - Target Variable"
   ]
  },
  {
   "cell_type": "code",
   "execution_count": 272,
   "id": "918cc5f8",
   "metadata": {},
   "outputs": [
    {
     "data": {
      "text/plain": [
       "array([0, 1], dtype=int64)"
      ]
     },
     "execution_count": 272,
     "metadata": {},
     "output_type": "execute_result"
    }
   ],
   "source": [
    "oDiagnosisColumn.unique()"
   ]
  },
  {
   "cell_type": "code",
   "execution_count": 273,
   "id": "e925bd6f",
   "metadata": {},
   "outputs": [
    {
     "data": {
      "text/plain": [
       "0    164\n",
       "1    139\n",
       "Name: Diagnosis, dtype: int64"
      ]
     },
     "execution_count": 273,
     "metadata": {},
     "output_type": "execute_result"
    },
    {
     "data": {
      "image/png": "[encoded data removed]",
      "text/plain": [
       "<Figure size 432x288 with 1 Axes>"
      ]
     },
     "metadata": {
      "needs_background": "light"
     },
     "output_type": "display_data"
    }
   ],
   "source": [
    "# Draw a graph using sns library\n",
    "sns.countplot(x = 'Diagnosis', data = dfHeartDiseases, palette = \"Reds_d\")\n",
    "# Print count of values in the Diagnosis column\n",
    "oDiagnosisColumn.value_counts()"
   ]
  },
  {
   "cell_type": "markdown",
   "id": "154817a9",
   "metadata": {},
   "source": [
    "### Analysing the 'Sex' Feature"
   ]
  },
  {
   "cell_type": "code",
   "execution_count": 274,
   "id": "3df6df99",
   "metadata": {},
   "outputs": [
    {
     "data": {
      "text/plain": [
       "array([1., 0.])"
      ]
     },
     "execution_count": 274,
     "metadata": {},
     "output_type": "execute_result"
    }
   ],
   "source": [
    "dfHeartDiseases[\"Sex\"].unique()"
   ]
  },
  {
   "cell_type": "code",
   "execution_count": 275,
   "id": "afa57dd4",
   "metadata": {},
   "outputs": [
    {
     "data": {
      "text/plain": [
       "<AxesSubplot:xlabel='Sex', ylabel='Diagnosis'>"
      ]
     },
     "execution_count": 275,
     "metadata": {},
     "output_type": "execute_result"
    },
    {
     "data": {
      "image/png": "[encoded data removed]",
      "text/plain": [
       "<Figure size 432x288 with 1 Axes>"
      ]
     },
     "metadata": {
      "needs_background": "light"
     },
     "output_type": "display_data"
    }
   ],
   "source": [
    "sns.barplot(x = dfHeartDiseases[\"Sex\"], y = oDiagnosisColumn)"
   ]
  },
  {
   "cell_type": "markdown",
   "id": "66624ebd",
   "metadata": {},
   "source": [
    "### Analysing the 'Chest Pain Type' Feature"
   ]
  },
  {
   "cell_type": "code",
   "execution_count": 276,
   "id": "0a28c186",
   "metadata": {},
   "outputs": [
    {
     "data": {
      "text/plain": [
       "array([1., 4., 3., 2.])"
      ]
     },
     "execution_count": 276,
     "metadata": {},
     "output_type": "execute_result"
    }
   ],
   "source": [
    "dfHeartDiseases[\"Chest Pain Type\"].unique()"
   ]
  },
  {
   "cell_type": "code",
   "execution_count": 277,
   "id": "bd753ae6",
   "metadata": {},
   "outputs": [
    {
     "data": {
      "text/plain": [
       "<AxesSubplot:xlabel='Chest Pain Type', ylabel='Diagnosis'>"
      ]
     },
     "execution_count": 277,
     "metadata": {},
     "output_type": "execute_result"
    },
    {
     "data": {
      "image/png": "[encoded data removed]",
      "text/plain": [
       "<Figure size 432x288 with 1 Axes>"
      ]
     },
     "metadata": {
      "needs_background": "light"
     },
     "output_type": "display_data"
    }
   ],
   "source": [
    "sns.barplot(x = dfHeartDiseases[\"Chest Pain Type\"], y = oDiagnosisColumn)"
   ]
  },
  {
   "cell_type": "markdown",
   "id": "048ce866",
   "metadata": {},
   "source": [
    "### Analysing the 'Fasting Blood Sugar' Feature"
   ]
  },
  {
   "cell_type": "code",
   "execution_count": 278,
   "id": "9273191a",
   "metadata": {
    "scrolled": true
   },
   "outputs": [
    {
     "data": {
      "text/plain": [
       "array([1., 0.])"
      ]
     },
     "execution_count": 278,
     "metadata": {},
     "output_type": "execute_result"
    }
   ],
   "source": [
    "dfHeartDiseases[\"Fasting Blood Sugar\"].unique()"
   ]
  },
  {
   "cell_type": "code",
   "execution_count": 279,
   "id": "3baa2b43",
   "metadata": {},
   "outputs": [
    {
     "data": {
      "text/plain": [
       "<AxesSubplot:xlabel='Fasting Blood Sugar', ylabel='Diagnosis'>"
      ]
     },
     "execution_count": 279,
     "metadata": {},
     "output_type": "execute_result"
    },
    {
     "data": {
      "image/png": "[encoded data removed]",
      "text/plain": [
       "<Figure size 432x288 with 1 Axes>"
      ]
     },
     "metadata": {
      "needs_background": "light"
     },
     "output_type": "display_data"
    }
   ],
   "source": [
    "sns.barplot(x = dfHeartDiseases[\"Fasting Blood Sugar\"], y = oDiagnosisColumn)"
   ]
  },
  {
   "cell_type": "markdown",
   "id": "fdef0170",
   "metadata": {},
   "source": [
    "### Analysing the 'ECG' Feature"
   ]
  },
  {
   "cell_type": "code",
   "execution_count": 280,
   "id": "08ad9072",
   "metadata": {},
   "outputs": [
    {
     "data": {
      "text/plain": [
       "array([2., 0., 1.])"
      ]
     },
     "execution_count": 280,
     "metadata": {},
     "output_type": "execute_result"
    }
   ],
   "source": [
    "dfHeartDiseases[\"ECG\"].unique()"
   ]
  },
  {
   "cell_type": "code",
   "execution_count": 281,
   "id": "7e02994b",
   "metadata": {},
   "outputs": [
    {
     "data": {
      "text/plain": [
       "<AxesSubplot:xlabel='ECG', ylabel='Diagnosis'>"
      ]
     },
     "execution_count": 281,
     "metadata": {},
     "output_type": "execute_result"
    },
    {
     "data": {
      "image/png": "[encoded data removed]",
      "text/plain": [
       "<Figure size 432x288 with 1 Axes>"
      ]
     },
     "metadata": {
      "needs_background": "light"
     },
     "output_type": "display_data"
    }
   ],
   "source": [
    "sns.barplot(x = dfHeartDiseases[\"ECG\"], y = oDiagnosisColumn, palette = \"Blues_d\")"
   ]
  },
  {
   "cell_type": "markdown",
   "id": "8c87d113",
   "metadata": {},
   "source": [
    "### Analysing the 'Exercise Angina' Feature"
   ]
  },
  {
   "cell_type": "code",
   "execution_count": 282,
   "id": "3a46ff55",
   "metadata": {},
   "outputs": [
    {
     "data": {
      "text/plain": [
       "array([0., 1.])"
      ]
     },
     "execution_count": 282,
     "metadata": {},
     "output_type": "execute_result"
    }
   ],
   "source": [
    "dfHeartDiseases[\"Exercise Angina\"].unique()"
   ]
  },
  {
   "cell_type": "code",
   "execution_count": 283,
   "id": "dfbec3ea",
   "metadata": {},
   "outputs": [
    {
     "data": {
      "text/plain": [
       "<AxesSubplot:xlabel='Exercise Angina', ylabel='Diagnosis'>"
      ]
     },
     "execution_count": 283,
     "metadata": {},
     "output_type": "execute_result"
    },
    {
     "data": {
      "image/png": "[encoded data removed]",
      "text/plain": [
       "<Figure size 432x288 with 1 Axes>"
      ]
     },
     "metadata": {
      "needs_background": "light"
     },
     "output_type": "display_data"
    }
   ],
   "source": [
    "sns.barplot(x = dfHeartDiseases[\"Exercise Angina\"], y = oDiagnosisColumn, palette = \"Greens_d\")"
   ]
  },
  {
   "cell_type": "markdown",
   "id": "53f808c5",
   "metadata": {},
   "source": [
    "### Analysing the 'Slope' Feature"
   ]
  },
  {
   "cell_type": "code",
   "execution_count": 284,
   "id": "30753f90",
   "metadata": {},
   "outputs": [
    {
     "data": {
      "text/plain": [
       "array([3., 2., 1.])"
      ]
     },
     "execution_count": 284,
     "metadata": {},
     "output_type": "execute_result"
    }
   ],
   "source": [
    "dfHeartDiseases[\"Slope\"].unique()"
   ]
  },
  {
   "cell_type": "code",
   "execution_count": 285,
   "id": "e5956091",
   "metadata": {},
   "outputs": [
    {
     "data": {
      "text/plain": [
       "<AxesSubplot:xlabel='Slope', ylabel='Diagnosis'>"
      ]
     },
     "execution_count": 285,
     "metadata": {},
     "output_type": "execute_result"
    },
    {
     "data": {
      "image/png": "[encoded data removed]",
      "text/plain": [
       "<Figure size 432x288 with 1 Axes>"
      ]
     },
     "metadata": {
      "needs_background": "light"
     },
     "output_type": "display_data"
    }
   ],
   "source": [
    "sns.barplot(x = dfHeartDiseases[\"Slope\"], y = oDiagnosisColumn, palette = \"Oranges_d\")"
   ]
  },
  {
   "cell_type": "markdown",
   "id": "10959349",
   "metadata": {},
   "source": [
    "### Analysing the 'Major Vessels Blocked' Feature"
   ]
  },
  {
   "cell_type": "code",
   "execution_count": 286,
   "id": "92325af5",
   "metadata": {},
   "outputs": [
    {
     "data": {
      "text/plain": [
       "array(['0.0', '3.0', '2.0', '1.0'], dtype=object)"
      ]
     },
     "execution_count": 286,
     "metadata": {},
     "output_type": "execute_result"
    }
   ],
   "source": [
    "dfHeartDiseases[\"Major Vessels Blocked\"].unique()"
   ]
  },
  {
   "cell_type": "code",
   "execution_count": 287,
   "id": "55ff8b41",
   "metadata": {},
   "outputs": [
    {
     "data": {
      "text/plain": [
       "<AxesSubplot:xlabel='Major Vessels Blocked', ylabel='Diagnosis'>"
      ]
     },
     "execution_count": 287,
     "metadata": {},
     "output_type": "execute_result"
    },
    {
     "data": {
      "image/png": "[encoded data removed]",
      "text/plain": [
       "<Figure size 432x288 with 1 Axes>"
      ]
     },
     "metadata": {
      "needs_background": "light"
     },
     "output_type": "display_data"
    }
   ],
   "source": [
    "sns.barplot(x = dfHeartDiseases[\"Major Vessels Blocked\"], y = oDiagnosisColumn, palette = \"Purples_d\")"
   ]
  },
  {
   "cell_type": "markdown",
   "id": "b36154eb",
   "metadata": {},
   "source": [
    "### Analysing the 'Thallium Test' Feature"
   ]
  },
  {
   "cell_type": "code",
   "execution_count": 288,
   "id": "9c02f50c",
   "metadata": {},
   "outputs": [
    {
     "data": {
      "text/plain": [
       "array(['6.0', '3.0', '7.0'], dtype=object)"
      ]
     },
     "execution_count": 288,
     "metadata": {},
     "output_type": "execute_result"
    }
   ],
   "source": [
    "dfHeartDiseases[\"Thallium Test\"].unique()"
   ]
  },
  {
   "cell_type": "code",
   "execution_count": 289,
   "id": "16195356",
   "metadata": {},
   "outputs": [
    {
     "data": {
      "text/plain": [
       "<AxesSubplot:xlabel='Thallium Test', ylabel='Diagnosis'>"
      ]
     },
     "execution_count": 289,
     "metadata": {},
     "output_type": "execute_result"
    },
    {
     "data": {
      "image/png": "[encoded data removed]",
      "text/plain": [
       "<Figure size 432x288 with 1 Axes>"
      ]
     },
     "metadata": {
      "needs_background": "light"
     },
     "output_type": "display_data"
    }
   ],
   "source": [
    "sns.barplot(x = dfHeartDiseases[\"Thallium Test\"], y = oDiagnosisColumn, palette = \"Oranges_d\")"
   ]
  },
  {
   "cell_type": "code",
   "execution_count": null,
   "id": "1e391b29",
   "metadata": {},
   "outputs": [],
   "source": []
  }
 ],
 "metadata": {
  "kernelspec": {
   "display_name": "Python 3 (ipykernel)",
   "language": "python",
   "name": "python3"
  },
  "language_info": {
   "codemirror_mode": {
    "name": "ipython",
    "version": 3
   },
   "file_extension": ".py",
   "mimetype": "text/x-python",
   "name": "python",
   "nbconvert_exporter": "python",
   "pygments_lexer": "ipython3",
   "version": "3.9.7"
  }
 },
 "nbformat": 4,
 "nbformat_minor": 5
}
