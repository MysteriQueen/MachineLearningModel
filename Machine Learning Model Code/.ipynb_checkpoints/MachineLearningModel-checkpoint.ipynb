{
 "cells": [
  {
   "cell_type": "markdown",
   "id": "a50a07a4",
   "metadata": {},
   "source": [
    "# Exploratory Data Analysis"
   ]
  },
  {
   "cell_type": "code",
   "execution_count": 360,
   "id": "641d0071",
   "metadata": {},
   "outputs": [],
   "source": [
    "import numpy as np\n",
    "import pandas as pd\n",
    "import matplotlib.pyplot as plt\n",
    "import seaborn as sns\n",
    "from matplotlib import pylab, rcParams\n",
    "from scipy import stats"
   ]
  },
  {
   "cell_type": "markdown",
   "id": "3323732e",
   "metadata": {},
   "source": [
    "## Analysing the Dataframe"
   ]
  },
  {
   "cell_type": "code",
   "execution_count": 361,
   "id": "61f72400",
   "metadata": {
    "scrolled": true
   },
   "outputs": [
    {
     "data": {
      "text/html": [
       "<div>\n",
       "<style scoped>\n",
       "    .dataframe tbody tr th:only-of-type {\n",
       "        vertical-align: middle;\n",
       "    }\n",
       "\n",
       "    .dataframe tbody tr th {\n",
       "        vertical-align: top;\n",
       "    }\n",
       "\n",
       "    .dataframe thead th {\n",
       "        text-align: right;\n",
       "    }\n",
       "</style>\n",
       "<table border=\"1\" class=\"dataframe\">\n",
       "  <thead>\n",
       "    <tr style=\"text-align: right;\">\n",
       "      <th></th>\n",
       "      <th>Age</th>\n",
       "      <th>Sex</th>\n",
       "      <th>Chest Pain Type</th>\n",
       "      <th>Resting Blood Pressure</th>\n",
       "      <th>Cholesterol</th>\n",
       "      <th>Fasting Blood Sugar</th>\n",
       "      <th>ECG</th>\n",
       "      <th>Max Heart Rate</th>\n",
       "      <th>Exercise Angina</th>\n",
       "      <th>ST Depression</th>\n",
       "      <th>Slope</th>\n",
       "      <th>Major Vessels Blocked</th>\n",
       "      <th>Thallium Test</th>\n",
       "      <th>Diagnosis</th>\n",
       "    </tr>\n",
       "  </thead>\n",
       "  <tbody>\n",
       "    <tr>\n",
       "      <th>0</th>\n",
       "      <td>67</td>\n",
       "      <td>1</td>\n",
       "      <td>4</td>\n",
       "      <td>120</td>\n",
       "      <td>229</td>\n",
       "      <td>0</td>\n",
       "      <td>2</td>\n",
       "      <td>129</td>\n",
       "      <td>1</td>\n",
       "      <td>2.6</td>\n",
       "      <td>2</td>\n",
       "      <td>2</td>\n",
       "      <td>7</td>\n",
       "      <td>1</td>\n",
       "    </tr>\n",
       "    <tr>\n",
       "      <th>1</th>\n",
       "      <td>37</td>\n",
       "      <td>1</td>\n",
       "      <td>3</td>\n",
       "      <td>130</td>\n",
       "      <td>250</td>\n",
       "      <td>0</td>\n",
       "      <td>0</td>\n",
       "      <td>187</td>\n",
       "      <td>0</td>\n",
       "      <td>3.5</td>\n",
       "      <td>3</td>\n",
       "      <td>0</td>\n",
       "      <td>3</td>\n",
       "      <td>0</td>\n",
       "    </tr>\n",
       "    <tr>\n",
       "      <th>2</th>\n",
       "      <td>41</td>\n",
       "      <td>0</td>\n",
       "      <td>2</td>\n",
       "      <td>130</td>\n",
       "      <td>204</td>\n",
       "      <td>0</td>\n",
       "      <td>2</td>\n",
       "      <td>172</td>\n",
       "      <td>0</td>\n",
       "      <td>1.4</td>\n",
       "      <td>1</td>\n",
       "      <td>0</td>\n",
       "      <td>3</td>\n",
       "      <td>0</td>\n",
       "    </tr>\n",
       "    <tr>\n",
       "      <th>3</th>\n",
       "      <td>56</td>\n",
       "      <td>1</td>\n",
       "      <td>2</td>\n",
       "      <td>120</td>\n",
       "      <td>236</td>\n",
       "      <td>0</td>\n",
       "      <td>0</td>\n",
       "      <td>178</td>\n",
       "      <td>0</td>\n",
       "      <td>0.8</td>\n",
       "      <td>1</td>\n",
       "      <td>0</td>\n",
       "      <td>3</td>\n",
       "      <td>0</td>\n",
       "    </tr>\n",
       "    <tr>\n",
       "      <th>4</th>\n",
       "      <td>62</td>\n",
       "      <td>0</td>\n",
       "      <td>4</td>\n",
       "      <td>140</td>\n",
       "      <td>268</td>\n",
       "      <td>0</td>\n",
       "      <td>2</td>\n",
       "      <td>160</td>\n",
       "      <td>0</td>\n",
       "      <td>3.6</td>\n",
       "      <td>3</td>\n",
       "      <td>2</td>\n",
       "      <td>3</td>\n",
       "      <td>1</td>\n",
       "    </tr>\n",
       "    <tr>\n",
       "      <th>...</th>\n",
       "      <td>...</td>\n",
       "      <td>...</td>\n",
       "      <td>...</td>\n",
       "      <td>...</td>\n",
       "      <td>...</td>\n",
       "      <td>...</td>\n",
       "      <td>...</td>\n",
       "      <td>...</td>\n",
       "      <td>...</td>\n",
       "      <td>...</td>\n",
       "      <td>...</td>\n",
       "      <td>...</td>\n",
       "      <td>...</td>\n",
       "      <td>...</td>\n",
       "    </tr>\n",
       "    <tr>\n",
       "      <th>207</th>\n",
       "      <td>63</td>\n",
       "      <td>0</td>\n",
       "      <td>4</td>\n",
       "      <td>124</td>\n",
       "      <td>197</td>\n",
       "      <td>0</td>\n",
       "      <td>0</td>\n",
       "      <td>136</td>\n",
       "      <td>1</td>\n",
       "      <td>0.0</td>\n",
       "      <td>2</td>\n",
       "      <td>0</td>\n",
       "      <td>3</td>\n",
       "      <td>1</td>\n",
       "    </tr>\n",
       "    <tr>\n",
       "      <th>208</th>\n",
       "      <td>41</td>\n",
       "      <td>1</td>\n",
       "      <td>2</td>\n",
       "      <td>120</td>\n",
       "      <td>157</td>\n",
       "      <td>0</td>\n",
       "      <td>0</td>\n",
       "      <td>182</td>\n",
       "      <td>0</td>\n",
       "      <td>0.0</td>\n",
       "      <td>1</td>\n",
       "      <td>0</td>\n",
       "      <td>3</td>\n",
       "      <td>0</td>\n",
       "    </tr>\n",
       "    <tr>\n",
       "      <th>209</th>\n",
       "      <td>57</td>\n",
       "      <td>0</td>\n",
       "      <td>4</td>\n",
       "      <td>140</td>\n",
       "      <td>241</td>\n",
       "      <td>0</td>\n",
       "      <td>0</td>\n",
       "      <td>123</td>\n",
       "      <td>1</td>\n",
       "      <td>0.2</td>\n",
       "      <td>2</td>\n",
       "      <td>0</td>\n",
       "      <td>7</td>\n",
       "      <td>1</td>\n",
       "    </tr>\n",
       "    <tr>\n",
       "      <th>210</th>\n",
       "      <td>57</td>\n",
       "      <td>1</td>\n",
       "      <td>4</td>\n",
       "      <td>130</td>\n",
       "      <td>131</td>\n",
       "      <td>0</td>\n",
       "      <td>0</td>\n",
       "      <td>115</td>\n",
       "      <td>1</td>\n",
       "      <td>1.2</td>\n",
       "      <td>2</td>\n",
       "      <td>1</td>\n",
       "      <td>7</td>\n",
       "      <td>1</td>\n",
       "    </tr>\n",
       "    <tr>\n",
       "      <th>211</th>\n",
       "      <td>57</td>\n",
       "      <td>0</td>\n",
       "      <td>2</td>\n",
       "      <td>130</td>\n",
       "      <td>236</td>\n",
       "      <td>0</td>\n",
       "      <td>2</td>\n",
       "      <td>174</td>\n",
       "      <td>0</td>\n",
       "      <td>0.0</td>\n",
       "      <td>2</td>\n",
       "      <td>1</td>\n",
       "      <td>3</td>\n",
       "      <td>1</td>\n",
       "    </tr>\n",
       "  </tbody>\n",
       "</table>\n",
       "<p>212 rows × 14 columns</p>\n",
       "</div>"
      ],
      "text/plain": [
       "     Age  Sex  Chest Pain Type  Resting Blood Pressure  Cholesterol  \\\n",
       "0     67    1                4                     120          229   \n",
       "1     37    1                3                     130          250   \n",
       "2     41    0                2                     130          204   \n",
       "3     56    1                2                     120          236   \n",
       "4     62    0                4                     140          268   \n",
       "..   ...  ...              ...                     ...          ...   \n",
       "207   63    0                4                     124          197   \n",
       "208   41    1                2                     120          157   \n",
       "209   57    0                4                     140          241   \n",
       "210   57    1                4                     130          131   \n",
       "211   57    0                2                     130          236   \n",
       "\n",
       "     Fasting Blood Sugar  ECG  Max Heart Rate  Exercise Angina  ST Depression  \\\n",
       "0                      0    2             129                1            2.6   \n",
       "1                      0    0             187                0            3.5   \n",
       "2                      0    2             172                0            1.4   \n",
       "3                      0    0             178                0            0.8   \n",
       "4                      0    2             160                0            3.6   \n",
       "..                   ...  ...             ...              ...            ...   \n",
       "207                    0    0             136                1            0.0   \n",
       "208                    0    0             182                0            0.0   \n",
       "209                    0    0             123                1            0.2   \n",
       "210                    0    0             115                1            1.2   \n",
       "211                    0    2             174                0            0.0   \n",
       "\n",
       "     Slope  Major Vessels Blocked  Thallium Test  Diagnosis  \n",
       "0        2                      2              7          1  \n",
       "1        3                      0              3          0  \n",
       "2        1                      0              3          0  \n",
       "3        1                      0              3          0  \n",
       "4        3                      2              3          1  \n",
       "..     ...                    ...            ...        ...  \n",
       "207      2                      0              3          1  \n",
       "208      1                      0              3          0  \n",
       "209      2                      0              7          1  \n",
       "210      2                      1              7          1  \n",
       "211      2                      1              3          1  \n",
       "\n",
       "[212 rows x 14 columns]"
      ]
     },
     "execution_count": 361,
     "metadata": {},
     "output_type": "execute_result"
    }
   ],
   "source": [
    "# Read preprocessed heart disease dataset and store into a dataframe variable\n",
    "dfHeartDiseases = pd.read_excel(\"D:\\Year3\\ArtificialIntelligence\\Assignment\\HeartDiseasesDatasetPreprocessed.xlsx\")\n",
    "# Delete Unnamed column\n",
    "del dfHeartDiseases['Unnamed: 0']\n",
    "# Print dataframe\n",
    "dfHeartDiseases"
   ]
  },
  {
   "cell_type": "code",
   "execution_count": 362,
   "id": "41303733",
   "metadata": {},
   "outputs": [
    {
     "name": "stdout",
     "output_type": "stream",
     "text": [
      "Shape: (212, 14)\n"
     ]
    }
   ],
   "source": [
    "# Print shape of the dataframe\n",
    "print(\"Shape: \" + str(dfHeartDiseases.shape))"
   ]
  },
  {
   "cell_type": "code",
   "execution_count": 363,
   "id": "71c52d1d",
   "metadata": {},
   "outputs": [
    {
     "data": {
      "text/html": [
       "<div>\n",
       "<style scoped>\n",
       "    .dataframe tbody tr th:only-of-type {\n",
       "        vertical-align: middle;\n",
       "    }\n",
       "\n",
       "    .dataframe tbody tr th {\n",
       "        vertical-align: top;\n",
       "    }\n",
       "\n",
       "    .dataframe thead th {\n",
       "        text-align: right;\n",
       "    }\n",
       "</style>\n",
       "<table border=\"1\" class=\"dataframe\">\n",
       "  <thead>\n",
       "    <tr style=\"text-align: right;\">\n",
       "      <th></th>\n",
       "      <th>Age</th>\n",
       "      <th>Sex</th>\n",
       "      <th>Chest Pain Type</th>\n",
       "      <th>Resting Blood Pressure</th>\n",
       "      <th>Cholesterol</th>\n",
       "      <th>Fasting Blood Sugar</th>\n",
       "      <th>ECG</th>\n",
       "      <th>Max Heart Rate</th>\n",
       "      <th>Exercise Angina</th>\n",
       "      <th>ST Depression</th>\n",
       "      <th>Slope</th>\n",
       "      <th>Major Vessels Blocked</th>\n",
       "      <th>Thallium Test</th>\n",
       "      <th>Diagnosis</th>\n",
       "    </tr>\n",
       "  </thead>\n",
       "  <tbody>\n",
       "    <tr>\n",
       "      <th>count</th>\n",
       "      <td>212.000000</td>\n",
       "      <td>212.000000</td>\n",
       "      <td>212.000000</td>\n",
       "      <td>212.000000</td>\n",
       "      <td>212.000000</td>\n",
       "      <td>212.0</td>\n",
       "      <td>212.000000</td>\n",
       "      <td>212.000000</td>\n",
       "      <td>212.000000</td>\n",
       "      <td>212.000000</td>\n",
       "      <td>212.000000</td>\n",
       "      <td>212.000000</td>\n",
       "      <td>212.000000</td>\n",
       "      <td>212.000000</td>\n",
       "    </tr>\n",
       "    <tr>\n",
       "      <th>mean</th>\n",
       "      <td>53.306604</td>\n",
       "      <td>0.660377</td>\n",
       "      <td>3.316038</td>\n",
       "      <td>128.198113</td>\n",
       "      <td>243.924528</td>\n",
       "      <td>0.0</td>\n",
       "      <td>0.924528</td>\n",
       "      <td>150.745283</td>\n",
       "      <td>0.320755</td>\n",
       "      <td>0.914623</td>\n",
       "      <td>1.542453</td>\n",
       "      <td>0.471698</td>\n",
       "      <td>4.594340</td>\n",
       "      <td>0.429245</td>\n",
       "    </tr>\n",
       "    <tr>\n",
       "      <th>std</th>\n",
       "      <td>9.119291</td>\n",
       "      <td>0.474702</td>\n",
       "      <td>0.784402</td>\n",
       "      <td>14.958026</td>\n",
       "      <td>45.186543</td>\n",
       "      <td>0.0</td>\n",
       "      <td>0.994755</td>\n",
       "      <td>22.474445</td>\n",
       "      <td>0.467871</td>\n",
       "      <td>1.030770</td>\n",
       "      <td>0.586652</td>\n",
       "      <td>0.684390</td>\n",
       "      <td>1.926509</td>\n",
       "      <td>0.496140</td>\n",
       "    </tr>\n",
       "    <tr>\n",
       "      <th>min</th>\n",
       "      <td>29.000000</td>\n",
       "      <td>0.000000</td>\n",
       "      <td>2.000000</td>\n",
       "      <td>94.000000</td>\n",
       "      <td>131.000000</td>\n",
       "      <td>0.0</td>\n",
       "      <td>0.000000</td>\n",
       "      <td>88.000000</td>\n",
       "      <td>0.000000</td>\n",
       "      <td>0.000000</td>\n",
       "      <td>1.000000</td>\n",
       "      <td>0.000000</td>\n",
       "      <td>3.000000</td>\n",
       "      <td>0.000000</td>\n",
       "    </tr>\n",
       "    <tr>\n",
       "      <th>25%</th>\n",
       "      <td>45.750000</td>\n",
       "      <td>0.000000</td>\n",
       "      <td>3.000000</td>\n",
       "      <td>120.000000</td>\n",
       "      <td>210.750000</td>\n",
       "      <td>0.0</td>\n",
       "      <td>0.000000</td>\n",
       "      <td>137.500000</td>\n",
       "      <td>0.000000</td>\n",
       "      <td>0.000000</td>\n",
       "      <td>1.000000</td>\n",
       "      <td>0.000000</td>\n",
       "      <td>3.000000</td>\n",
       "      <td>0.000000</td>\n",
       "    </tr>\n",
       "    <tr>\n",
       "      <th>50%</th>\n",
       "      <td>54.000000</td>\n",
       "      <td>1.000000</td>\n",
       "      <td>4.000000</td>\n",
       "      <td>130.000000</td>\n",
       "      <td>241.500000</td>\n",
       "      <td>0.0</td>\n",
       "      <td>0.000000</td>\n",
       "      <td>155.000000</td>\n",
       "      <td>0.000000</td>\n",
       "      <td>0.600000</td>\n",
       "      <td>1.000000</td>\n",
       "      <td>0.000000</td>\n",
       "      <td>3.000000</td>\n",
       "      <td>0.000000</td>\n",
       "    </tr>\n",
       "    <tr>\n",
       "      <th>75%</th>\n",
       "      <td>60.000000</td>\n",
       "      <td>1.000000</td>\n",
       "      <td>4.000000</td>\n",
       "      <td>140.000000</td>\n",
       "      <td>271.500000</td>\n",
       "      <td>0.0</td>\n",
       "      <td>2.000000</td>\n",
       "      <td>168.000000</td>\n",
       "      <td>1.000000</td>\n",
       "      <td>1.500000</td>\n",
       "      <td>2.000000</td>\n",
       "      <td>1.000000</td>\n",
       "      <td>7.000000</td>\n",
       "      <td>1.000000</td>\n",
       "    </tr>\n",
       "    <tr>\n",
       "      <th>max</th>\n",
       "      <td>76.000000</td>\n",
       "      <td>1.000000</td>\n",
       "      <td>4.000000</td>\n",
       "      <td>170.000000</td>\n",
       "      <td>360.000000</td>\n",
       "      <td>0.0</td>\n",
       "      <td>2.000000</td>\n",
       "      <td>202.000000</td>\n",
       "      <td>1.000000</td>\n",
       "      <td>4.000000</td>\n",
       "      <td>3.000000</td>\n",
       "      <td>2.000000</td>\n",
       "      <td>7.000000</td>\n",
       "      <td>1.000000</td>\n",
       "    </tr>\n",
       "  </tbody>\n",
       "</table>\n",
       "</div>"
      ],
      "text/plain": [
       "              Age         Sex  Chest Pain Type  Resting Blood Pressure  \\\n",
       "count  212.000000  212.000000       212.000000              212.000000   \n",
       "mean    53.306604    0.660377         3.316038              128.198113   \n",
       "std      9.119291    0.474702         0.784402               14.958026   \n",
       "min     29.000000    0.000000         2.000000               94.000000   \n",
       "25%     45.750000    0.000000         3.000000              120.000000   \n",
       "50%     54.000000    1.000000         4.000000              130.000000   \n",
       "75%     60.000000    1.000000         4.000000              140.000000   \n",
       "max     76.000000    1.000000         4.000000              170.000000   \n",
       "\n",
       "       Cholesterol  Fasting Blood Sugar         ECG  Max Heart Rate  \\\n",
       "count   212.000000                212.0  212.000000      212.000000   \n",
       "mean    243.924528                  0.0    0.924528      150.745283   \n",
       "std      45.186543                  0.0    0.994755       22.474445   \n",
       "min     131.000000                  0.0    0.000000       88.000000   \n",
       "25%     210.750000                  0.0    0.000000      137.500000   \n",
       "50%     241.500000                  0.0    0.000000      155.000000   \n",
       "75%     271.500000                  0.0    2.000000      168.000000   \n",
       "max     360.000000                  0.0    2.000000      202.000000   \n",
       "\n",
       "       Exercise Angina  ST Depression       Slope  Major Vessels Blocked  \\\n",
       "count       212.000000     212.000000  212.000000             212.000000   \n",
       "mean          0.320755       0.914623    1.542453               0.471698   \n",
       "std           0.467871       1.030770    0.586652               0.684390   \n",
       "min           0.000000       0.000000    1.000000               0.000000   \n",
       "25%           0.000000       0.000000    1.000000               0.000000   \n",
       "50%           0.000000       0.600000    1.000000               0.000000   \n",
       "75%           1.000000       1.500000    2.000000               1.000000   \n",
       "max           1.000000       4.000000    3.000000               2.000000   \n",
       "\n",
       "       Thallium Test   Diagnosis  \n",
       "count     212.000000  212.000000  \n",
       "mean        4.594340    0.429245  \n",
       "std         1.926509    0.496140  \n",
       "min         3.000000    0.000000  \n",
       "25%         3.000000    0.000000  \n",
       "50%         3.000000    0.000000  \n",
       "75%         7.000000    1.000000  \n",
       "max         7.000000    1.000000  "
      ]
     },
     "execution_count": 363,
     "metadata": {},
     "output_type": "execute_result"
    }
   ],
   "source": [
    "# Print description of the dataframe\n",
    "dfHeartDiseases.describe()"
   ]
  },
  {
   "cell_type": "code",
   "execution_count": 364,
   "id": "4833a735",
   "metadata": {},
   "outputs": [
    {
     "name": "stdout",
     "output_type": "stream",
     "text": [
      "<class 'pandas.core.frame.DataFrame'>\n",
      "RangeIndex: 212 entries, 0 to 211\n",
      "Data columns (total 14 columns):\n",
      " #   Column                  Non-Null Count  Dtype  \n",
      "---  ------                  --------------  -----  \n",
      " 0   Age                     212 non-null    int64  \n",
      " 1   Sex                     212 non-null    int64  \n",
      " 2   Chest Pain Type         212 non-null    int64  \n",
      " 3   Resting Blood Pressure  212 non-null    int64  \n",
      " 4   Cholesterol             212 non-null    int64  \n",
      " 5   Fasting Blood Sugar     212 non-null    int64  \n",
      " 6   ECG                     212 non-null    int64  \n",
      " 7   Max Heart Rate          212 non-null    int64  \n",
      " 8   Exercise Angina         212 non-null    int64  \n",
      " 9   ST Depression           212 non-null    float64\n",
      " 10  Slope                   212 non-null    int64  \n",
      " 11  Major Vessels Blocked   212 non-null    int64  \n",
      " 12  Thallium Test           212 non-null    int64  \n",
      " 13  Diagnosis               212 non-null    int64  \n",
      "dtypes: float64(1), int64(13)\n",
      "memory usage: 23.3 KB\n"
     ]
    }
   ],
   "source": [
    "# Print information\n",
    "dfHeartDiseases.info()"
   ]
  },
  {
   "cell_type": "markdown",
   "id": "2e68f298",
   "metadata": {},
   "source": [
    "## Analysing the Features"
   ]
  },
  {
   "cell_type": "markdown",
   "id": "8eda6301",
   "metadata": {},
   "source": [
    "### Analysing the 'Diagnosis' Feature - Target Variable"
   ]
  },
  {
   "cell_type": "code",
   "execution_count": 365,
   "id": "fb352894",
   "metadata": {},
   "outputs": [
    {
     "data": {
      "text/plain": [
       "array([0, 1], dtype=int64)"
      ]
     },
     "execution_count": 365,
     "metadata": {},
     "output_type": "execute_result"
    }
   ],
   "source": [
    "oDiagnosisColumn.unique()"
   ]
  },
  {
   "cell_type": "code",
   "execution_count": 366,
   "id": "46298647",
   "metadata": {},
   "outputs": [
    {
     "data": {
      "text/plain": [
       "0    164\n",
       "1    139\n",
       "Name: Diagnosis, dtype: int64"
      ]
     },
     "execution_count": 366,
     "metadata": {},
     "output_type": "execute_result"
    },
    {
     "data": {
      "image/png": "[encoded data removed]",
      "text/plain": [
       "<Figure size 432x288 with 1 Axes>"
      ]
     },
     "metadata": {
      "needs_background": "light"
     },
     "output_type": "display_data"
    }
   ],
   "source": [
    "# Draw a graph using sns library\n",
    "sns.countplot(x = 'Diagnosis', data = dfHeartDiseases, palette = \"Reds_d\")\n",
    "# Print count of values in the Diagnosis column\n",
    "oDiagnosisColumn.value_counts()"
   ]
  },
  {
   "cell_type": "markdown",
   "id": "ee576654",
   "metadata": {},
   "source": [
    "### Analysing the 'Sex' Feature"
   ]
  },
  {
   "cell_type": "code",
   "execution_count": 367,
   "id": "16820d35",
   "metadata": {},
   "outputs": [
    {
     "data": {
      "text/plain": [
       "array([1, 0], dtype=int64)"
      ]
     },
     "execution_count": 367,
     "metadata": {},
     "output_type": "execute_result"
    }
   ],
   "source": [
    "dfHeartDiseases[\"Sex\"].unique()"
   ]
  },
  {
   "cell_type": "code",
   "execution_count": 368,
   "id": "af9be22c",
   "metadata": {},
   "outputs": [
    {
     "data": {
      "text/plain": [
       "<AxesSubplot:xlabel='Sex', ylabel='Diagnosis'>"
      ]
     },
     "execution_count": 368,
     "metadata": {},
     "output_type": "execute_result"
    },
    {
     "data": {
      "image/png": "[encoded data removed]",
      "text/plain": [
       "<Figure size 432x288 with 1 Axes>"
      ]
     },
     "metadata": {
      "needs_background": "light"
     },
     "output_type": "display_data"
    }
   ],
   "source": [
    "sns.barplot(x = dfHeartDiseases[\"Sex\"], y = oDiagnosisColumn, palette = \"Oranges_d\")"
   ]
  },
  {
   "cell_type": "markdown",
   "id": "030c65da",
   "metadata": {},
   "source": [
    "### Analysing the 'Chest Pain Type' Feature"
   ]
  },
  {
   "cell_type": "code",
   "execution_count": 369,
   "id": "022998d6",
   "metadata": {},
   "outputs": [
    {
     "data": {
      "text/plain": [
       "array([4, 3, 2], dtype=int64)"
      ]
     },
     "execution_count": 369,
     "metadata": {},
     "output_type": "execute_result"
    }
   ],
   "source": [
    "dfHeartDiseases[\"Chest Pain Type\"].unique()"
   ]
  },
  {
   "cell_type": "code",
   "execution_count": 370,
   "id": "c537c37e",
   "metadata": {},
   "outputs": [
    {
     "data": {
      "text/plain": [
       "<AxesSubplot:xlabel='Chest Pain Type', ylabel='Diagnosis'>"
      ]
     },
     "execution_count": 370,
     "metadata": {},
     "output_type": "execute_result"
    },
    {
     "data": {
      "image/png": "[encoded data removed]",
      "text/plain": [
       "<Figure size 432x288 with 1 Axes>"
      ]
     },
     "metadata": {
      "needs_background": "light"
     },
     "output_type": "display_data"
    }
   ],
   "source": [
    "sns.barplot(x = dfHeartDiseases[\"Chest Pain Type\"], y = oDiagnosisColumn, palette = \"Purples_d\")"
   ]
  },
  {
   "cell_type": "markdown",
   "id": "97af3fd2",
   "metadata": {},
   "source": [
    "### Analysing the 'Fasting Blood Sugar' Feature"
   ]
  },
  {
   "cell_type": "code",
   "execution_count": 371,
   "id": "4039e5ad",
   "metadata": {
    "scrolled": true
   },
   "outputs": [
    {
     "data": {
      "text/plain": [
       "array([0], dtype=int64)"
      ]
     },
     "execution_count": 371,
     "metadata": {},
     "output_type": "execute_result"
    }
   ],
   "source": [
    "dfHeartDiseases[\"Fasting Blood Sugar\"].unique()"
   ]
  },
  {
   "cell_type": "code",
   "execution_count": 372,
   "id": "0fa6d0b0",
   "metadata": {},
   "outputs": [
    {
     "data": {
      "text/plain": [
       "<AxesSubplot:xlabel='Fasting Blood Sugar', ylabel='Diagnosis'>"
      ]
     },
     "execution_count": 372,
     "metadata": {},
     "output_type": "execute_result"
    },
    {
     "data": {
      "image/png": "[encoded data removed]",
      "text/plain": [
       "<Figure size 432x288 with 1 Axes>"
      ]
     },
     "metadata": {
      "needs_background": "light"
     },
     "output_type": "display_data"
    }
   ],
   "source": [
    "sns.barplot(x = dfHeartDiseases[\"Fasting Blood Sugar\"], y = oDiagnosisColumn, palette = \"Greens_d\")"
   ]
  },
  {
   "cell_type": "markdown",
   "id": "5fbea240",
   "metadata": {},
   "source": [
    "### Analysing the 'ECG' Feature"
   ]
  },
  {
   "cell_type": "code",
   "execution_count": 373,
   "id": "896f5e28",
   "metadata": {},
   "outputs": [
    {
     "data": {
      "text/plain": [
       "array([2, 0, 1], dtype=int64)"
      ]
     },
     "execution_count": 373,
     "metadata": {},
     "output_type": "execute_result"
    }
   ],
   "source": [
    "dfHeartDiseases[\"ECG\"].unique()"
   ]
  },
  {
   "cell_type": "code",
   "execution_count": 374,
   "id": "76e556f0",
   "metadata": {},
   "outputs": [
    {
     "data": {
      "text/plain": [
       "<AxesSubplot:xlabel='ECG', ylabel='Diagnosis'>"
      ]
     },
     "execution_count": 374,
     "metadata": {},
     "output_type": "execute_result"
    },
    {
     "data": {
      "image/png": "[encoded data removed]",
      "text/plain": [
       "<Figure size 432x288 with 1 Axes>"
      ]
     },
     "metadata": {
      "needs_background": "light"
     },
     "output_type": "display_data"
    }
   ],
   "source": [
    "sns.barplot(x = dfHeartDiseases[\"ECG\"], y = oDiagnosisColumn, palette = \"Blues_d\")"
   ]
  },
  {
   "cell_type": "markdown",
   "id": "d35fe528",
   "metadata": {},
   "source": [
    "### Analysing the 'Exercise Angina' Feature"
   ]
  },
  {
   "cell_type": "code",
   "execution_count": 375,
   "id": "4e315bf2",
   "metadata": {},
   "outputs": [
    {
     "data": {
      "text/plain": [
       "array([1, 0], dtype=int64)"
      ]
     },
     "execution_count": 375,
     "metadata": {},
     "output_type": "execute_result"
    }
   ],
   "source": [
    "dfHeartDiseases[\"Exercise Angina\"].unique()"
   ]
  },
  {
   "cell_type": "code",
   "execution_count": 376,
   "id": "c60b5c6b",
   "metadata": {},
   "outputs": [
    {
     "data": {
      "text/plain": [
       "<AxesSubplot:xlabel='Exercise Angina', ylabel='Diagnosis'>"
      ]
     },
     "execution_count": 376,
     "metadata": {},
     "output_type": "execute_result"
    },
    {
     "data": {
      "image/png": "[encoded data removed]",
      "text/plain": [
       "<Figure size 432x288 with 1 Axes>"
      ]
     },
     "metadata": {
      "needs_background": "light"
     },
     "output_type": "display_data"
    }
   ],
   "source": [
    "sns.barplot(x = dfHeartDiseases[\"Exercise Angina\"], y = oDiagnosisColumn, palette = \"Reds_d\")"
   ]
  },
  {
   "cell_type": "markdown",
   "id": "fb826be3",
   "metadata": {},
   "source": [
    "### Analysing the 'Slope' Feature"
   ]
  },
  {
   "cell_type": "code",
   "execution_count": 377,
   "id": "7e46bae1",
   "metadata": {},
   "outputs": [
    {
     "data": {
      "text/plain": [
       "array([2, 3, 1], dtype=int64)"
      ]
     },
     "execution_count": 377,
     "metadata": {},
     "output_type": "execute_result"
    }
   ],
   "source": [
    "dfHeartDiseases[\"Slope\"].unique()"
   ]
  },
  {
   "cell_type": "code",
   "execution_count": 378,
   "id": "6a42f724",
   "metadata": {},
   "outputs": [
    {
     "data": {
      "text/plain": [
       "<AxesSubplot:xlabel='Slope', ylabel='Diagnosis'>"
      ]
     },
     "execution_count": 378,
     "metadata": {},
     "output_type": "execute_result"
    },
    {
     "data": {
      "image/png": "[encoded data removed]",
      "text/plain": [
       "<Figure size 432x288 with 1 Axes>"
      ]
     },
     "metadata": {
      "needs_background": "light"
     },
     "output_type": "display_data"
    }
   ],
   "source": [
    "sns.barplot(x = dfHeartDiseases[\"Slope\"], y = oDiagnosisColumn, palette = \"Oranges_d\")"
   ]
  },
  {
   "cell_type": "markdown",
   "id": "8930ed3e",
   "metadata": {},
   "source": [
    "### Analysing the 'Major Vessels Blocked' Feature"
   ]
  },
  {
   "cell_type": "code",
   "execution_count": 379,
   "id": "c45524d8",
   "metadata": {},
   "outputs": [
    {
     "data": {
      "text/plain": [
       "array([2, 0, 1], dtype=int64)"
      ]
     },
     "execution_count": 379,
     "metadata": {},
     "output_type": "execute_result"
    }
   ],
   "source": [
    "dfHeartDiseases[\"Major Vessels Blocked\"].unique()"
   ]
  },
  {
   "cell_type": "code",
   "execution_count": 380,
   "id": "a02b2e43",
   "metadata": {},
   "outputs": [
    {
     "data": {
      "text/plain": [
       "<AxesSubplot:xlabel='Major Vessels Blocked', ylabel='Diagnosis'>"
      ]
     },
     "execution_count": 380,
     "metadata": {},
     "output_type": "execute_result"
    },
    {
     "data": {
      "image/png": "[encoded data removed]",
      "text/plain": [
       "<Figure size 432x288 with 1 Axes>"
      ]
     },
     "metadata": {
      "needs_background": "light"
     },
     "output_type": "display_data"
    }
   ],
   "source": [
    "sns.barplot(x = dfHeartDiseases[\"Major Vessels Blocked\"], y = oDiagnosisColumn, palette = \"Purples_d\")"
   ]
  },
  {
   "cell_type": "markdown",
   "id": "25229ea2",
   "metadata": {},
   "source": [
    "### Analysing the 'Thallium Test' Feature"
   ]
  },
  {
   "cell_type": "code",
   "execution_count": 381,
   "id": "3c812e1b",
   "metadata": {},
   "outputs": [
    {
     "data": {
      "text/plain": [
       "array([7, 3, 6], dtype=int64)"
      ]
     },
     "execution_count": 381,
     "metadata": {},
     "output_type": "execute_result"
    }
   ],
   "source": [
    "dfHeartDiseases[\"Thallium Test\"].unique()"
   ]
  },
  {
   "cell_type": "code",
   "execution_count": 382,
   "id": "252a8609",
   "metadata": {},
   "outputs": [
    {
     "data": {
      "text/plain": [
       "<AxesSubplot:xlabel='Thallium Test', ylabel='Diagnosis'>"
      ]
     },
     "execution_count": 382,
     "metadata": {},
     "output_type": "execute_result"
    },
    {
     "data": {
      "image/png": "[encoded data removed]",
      "text/plain": [
       "<Figure size 432x288 with 1 Axes>"
      ]
     },
     "metadata": {
      "needs_background": "light"
     },
     "output_type": "display_data"
    }
   ],
   "source": [
    "sns.barplot(x = dfHeartDiseases[\"Thallium Test\"], y = oDiagnosisColumn, palette = \"Reds_d\")"
   ]
  },
  {
   "cell_type": "code",
   "execution_count": null,
   "id": "45e069c6",
   "metadata": {},
   "outputs": [],
   "source": []
  }
 ],
 "metadata": {
  "kernelspec": {
   "display_name": "Python 3 (ipykernel)",
   "language": "python",
   "name": "python3"
  },
  "language_info": {
   "codemirror_mode": {
    "name": "ipython",
    "version": 3
   },
   "file_extension": ".py",
   "mimetype": "text/x-python",
   "name": "python",
   "nbconvert_exporter": "python",
   "pygments_lexer": "ipython3",
   "version": "3.9.7"
  }
 },
 "nbformat": 4,
 "nbformat_minor": 5
}
